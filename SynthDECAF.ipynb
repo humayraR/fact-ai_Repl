{
 "cells": [
  {
   "cell_type": "code",
   "execution_count": null,
   "metadata": {},
   "outputs": [],
   "source": [
    "import torch\n",
    "import torch.nn as nn\n",
    "import torch.nn.functional as F\n",
    "from torch import nn, optim\n",
    "from torch.autograd import Variable\n",
    "\n",
    "from sklearn.model_selection import train_test_split\n",
    "from sklearn.decomposition import PCA\n",
    "\n",
    "import matplotlib.pyplot as plt\n",
    "import pandas as pd\n",
    "import numpy as np\n",
    "from sklearn import preprocessing\n",
    "from sklearn.neural_network import MLPClassifier\n",
    "from sklearn.datasets import make_classification\n",
    "from sklearn.metrics import precision_score, recall_score, roc_auc_score\n",
    "\n",
    "from table_evaluator import TableEvaluator\n",
    "\n",
    "from sklearn.utils._testing import ignore_warnings\n",
    "from sklearn.exceptions import ConvergenceWarning\n",
    "\n",
    "import os.path, sys\n",
    "from tests.utils import load_adult\n",
    "\n",
    "import warnings\n",
    "\n",
    "# synthcity absolute\n",
    "import synthcity.logger as log\n",
    "from synthcity.plugins import Plugins\n",
    "from synthcity.plugins.core.dataloader import GenericDataLoader"
   ]
  },
  {
   "cell_type": "code",
   "execution_count": null,
   "metadata": {},
   "outputs": [],
   "source": [
    "log.add(sink=sys.stderr, level=\"INFO\")\n",
    "sys.path.append(os.getcwd())"
   ]
  },
  {
   "cell_type": "code",
   "execution_count": null,
   "metadata": {},
   "outputs": [],
   "source": [
    "import PreProcessData\n",
    "\n",
    "clean_df = PreProcessData.clean_df('data/adult.data')\n",
    "#arr_X, arr_y, adult_df = load_adult() # arr_X np array without label/target, arr_y np array of just label/target\n",
    "\n",
    "clean_df"
   ]
  },
  {
   "cell_type": "code",
   "execution_count": null,
   "metadata": {},
   "outputs": [],
   "source": [
    "loader = GenericDataLoader(\n",
    "    clean_df,\n",
    "    target_column=\"label\",\n",
    "    sensitive_columns=[\"race\",\"sex\",\"native-country\"],\n",
    ")\n",
    "\n",
    "loader"
   ]
  },
  {
   "cell_type": "code",
   "execution_count": null,
   "metadata": {},
   "outputs": [],
   "source": [
    "# DAG and bias dicts for debiasing adult dataset\n",
    "df_dag = [\n",
    "    ('race', 'marital-status'), ('race', 'education'), ('race','occupation'), ('race','hours-per-week'), ('race','label'),\n",
    "\n",
    "    ('age', 'marital-status'), ('age', 'education'), ('age','occupation'), ('age','hours-per-week'), ('age','workclass'), ('age','relationship'), ('age','label'),\n",
    "\n",
    "    ('sex', 'marital-status'), ('sex', 'education'), ('sex','occupation'), ('sex','hours-per-week'), ('sex','workclass'), ('sex','relationship'), ('sex','label'),\n",
    "\n",
    "    ('native-country', 'marital-status'), ('native-country', 'education'), ('native-country','hours-per-week'), ('native-country','workclass'), ('native-country','relationship'), ('native-country','label'),\n",
    "\n",
    "    ('marital-status', 'education'), ('marital-status','occupation'), ('marital-status','hours-per-week'), ('marital-status','workclass'), ('marital-status','relationship'), ('marital-status','label'),\n",
    "\n",
    "    ('education','occupation'), ('education','hours-per-week'), ('education','workclass'), ('education','relationship'), ('education','label'),\n",
    "\n",
    "    ('occupation', 'label'),\n",
    "    ('hours-per-week', 'label'),\n",
    "    ('workclass', 'label'),\n",
    "    ('relationship', 'label')\n",
    "]\n",
    "\n",
    "ftu = {'sex':['label']}\n",
    "\n",
    "dp = {'sex':['label'],\n",
    "      'marital-status':['label'],\n",
    "      'relationship':['label'],\n",
    "      'occupation':['label'],\n",
    "      'hours-per-week':['label'],\n",
    "      'workclass':['label'],\n",
    "      'education':['label']    \n",
    "    }\n",
    "\n",
    "cf = {'sex':['label'],\n",
    "      'marital-status':['label'],\n",
    "      'relationship':['label']\n",
    "    }"
   ]
  },
  {
   "cell_type": "code",
   "execution_count": null,
   "metadata": {},
   "outputs": [],
   "source": [
    "# synthcity absolute\n",
    "from synthcity.plugins import Plugins\n",
    "from synthcity.plugins.privacy import plugin_decaf\n",
    "\n",
    "syn_model = plugin_decaf.DECAFPlugin(n_iter=10, n_iter_baseline=100)\n",
    "\n",
    "syn_model.fit(loader,dag=df_dag)"
   ]
  },
  {
   "cell_type": "code",
   "execution_count": null,
   "metadata": {},
   "outputs": [],
   "source": [
    "synth_ftu = syn_model.generate(count=70000, biased_edges=ftu).dataframe()\n",
    "synth_ftu"
   ]
  },
  {
   "cell_type": "code",
   "execution_count": null,
   "metadata": {},
   "outputs": [],
   "source": [
    "from Metrics import get_metrics\n",
    "\n",
    "get_metrics(\"DECAF-FTU\", clean_df, synth_ftu)"
   ]
  },
  {
   "cell_type": "code",
   "execution_count": null,
   "metadata": {},
   "outputs": [],
   "source": [
    "synth_dp = syn_model.generate(count=70000, biased_edges=dp).dataframe()\n",
    "synth_dp"
   ]
  },
  {
   "cell_type": "code",
   "execution_count": null,
   "metadata": {},
   "outputs": [],
   "source": [
    "get_metrics(\"DECAF-DP\", clean_df, synth_dp)"
   ]
  },
  {
   "cell_type": "code",
   "execution_count": null,
   "metadata": {},
   "outputs": [],
   "source": [
    "synth_cf = syn_model.generate(count=70000, biased_edges=cf).dataframe()\n",
    "synth_cf"
   ]
  },
  {
   "cell_type": "code",
   "execution_count": null,
   "metadata": {},
   "outputs": [],
   "source": [
    "get_metrics(\"DECAF-cf\", clean_df, synth_cf)"
   ]
  },
  {
   "cell_type": "code",
   "execution_count": null,
   "metadata": {},
   "outputs": [],
   "source": [
    "# Synthcity Benchmarking doesn't support DECAF at the moment. Can't pass in DAG or bias dict. Will need to build benchmarking from scratch for DECAF and other external GANs\n",
    "# from SynthBenchmarks import Benchmarks\n",
    "\n",
    "# score = Benchmarks.evaluate(\n",
    "#     [(\"Test Decaf\", \"decaf\", {\"n_iter\": 10, \"n_iter_baseline\": 100})],\n",
    "#     loader,\n",
    "#     synthetic_size=1000,\n",
    "#     repeats=2\n",
    "#     #synthetic_cache=False\n",
    "#     #synthetic_reuse_if_exists=True\n",
    "# )"
   ]
  }
 ],
 "metadata": {
  "kernelspec": {
   "display_name": "Python 3",
   "language": "python",
   "name": "python3"
  },
  "language_info": {
   "codemirror_mode": {
    "name": "ipython",
    "version": 3
   },
   "file_extension": ".py",
   "mimetype": "text/x-python",
   "name": "python",
   "nbconvert_exporter": "python",
   "pygments_lexer": "ipython3",
   "version": "3.9.2"
  }
 },
 "nbformat": 4,
 "nbformat_minor": 2
}

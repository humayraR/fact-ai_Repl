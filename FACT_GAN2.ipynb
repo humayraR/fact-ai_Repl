{
 "cells": [
  {
   "cell_type": "code",
   "execution_count": 54,
   "metadata": {
    "colab": {
     "base_uri": "https://localhost:8080/",
     "height": 438
    },
    "id": "S1t5-cjhja30",
    "outputId": "540e7a09-91a3-47b0-ef80-939dc75e8a5f"
   },
   "outputs": [],
   "source": [
    "import torch\n",
    "import torch.nn as nn\n",
    "import torch.nn.functional as F\n",
    "from torch import nn, optim\n",
    "from torch.autograd import Variable\n",
    "\n",
    "from sklearn.model_selection import train_test_split\n",
    "from sklearn.decomposition import PCA\n",
    "\n",
    "import matplotlib.pyplot as plt\n",
    "import pandas as pd\n",
    "import numpy as np\n",
    "from sklearn import preprocessing\n",
    "from sklearn.neural_network import MLPClassifier\n",
    "from sklearn.datasets import make_classification\n",
    "from sklearn.metrics import precision_score, recall_score, roc_auc_score\n",
    "\n",
    "from table_evaluator import TableEvaluator\n",
    "from ctgan import CTGAN\n",
    "\n",
    "from sklearn.utils._testing import ignore_warnings\n",
    "from sklearn.exceptions import ConvergenceWarning\n",
    "\n",
    "import os.path,sys\n",
    "\n",
    "import warnings\n",
    "\n",
    "# synthcity absolute\n",
    "import synthcity.logger as log\n",
    "from synthcity.plugins.core.dataloader import GenericDataLoader\n",
    "\n",
    "import PreProcessData\n",
    "\n",
    "from Metrics import get_metrics"
   ]
  },
  {
   "cell_type": "code",
   "execution_count": 3,
   "metadata": {},
   "outputs": [],
   "source": [
    "log.add(sink=sys.stderr, level=\"INFO\")\n",
    "sys.path.append(os.getcwd())"
   ]
  },
  {
   "cell_type": "code",
   "execution_count": 4,
   "metadata": {},
   "outputs": [],
   "source": [
    "discrete_columns = [\n",
    "    'workclass',\n",
    "    'education',\n",
    "    'marital-status',\n",
    "    'occupation',\n",
    "    'relationship',\n",
    "    'race',\n",
    "    'sex',\n",
    "    'native-country',\n",
    "    'label'\n",
    "]\n",
    "\n",
    "# Node order contains the order in which to generate the data, starting with the root nodes\n",
    "node_order = [['race','age','sex','native-country'],['marital-status'],['education'],['occupation','hours-per-week','workclass','relationship'],['label']]\n",
    "node_order_nl = ['race','age','sex','native-country','marital-status','education','occupation','hours-per-week','workclass','relationship','label']\n",
    "\n",
    "# List of connections; key is receiving node\n",
    "node_connections_normal = {'label':['occupation','race','hours-per-week','age','marital-status','education','sex','workclass','native-country','relatinship'],\n",
    "                    'occupation':['race','age','sex','marital-status','education'],\n",
    "                    'hours-per-week':['race','age','marital-status','native-country','education','sex'],\n",
    "                    'workclass':['age','marital-status','sex','education','native-country'],\n",
    "                    'relationship':['marital-status','education','age','sex','native-country'],\n",
    "                    'education':['race','age','marital-status','sex','native-country'],\n",
    "                    'marital-status':['race','age','sex','native-country']\n",
    "                    }\n",
    "\n",
    "'''\n",
    "Connections are removed according to the privacy criterion\n",
    "'''\n",
    "node_connections_FTU = {'label':['occupation','race','hours-per-week','age','marital-status','education','workclass','native-country','relationship'],\n",
    "                    'occupation':['race','age','sex','marital-status','education'],\n",
    "                    'hours-per-week':['race','age','marital-status','native-country','education','sex'],\n",
    "                    'workclass':['age','marital-status','sex','education','native-country'],\n",
    "                    'relationship':['marital-status','education','age','sex','native-country'],\n",
    "                    'education':['race','age','marital-status','sex','native-country'],\n",
    "                    'marital-status':['race','age','sex','native-country']\n",
    "                    }\n",
    "\n",
    "node_connections_DP = {'label':['race','age','native-country'],\n",
    "                    'occupation':['race','age','sex','marital-status','education'],\n",
    "                    'hours-per-week':['race','age','marital-status','native-country','education','sex'],\n",
    "                    'workclass':['age','marital-status','sex','education','native-country'],\n",
    "                    'relationship':['marital-status','education','age','sex','native-country'],\n",
    "                    'education':['race','age','marital-status','sex','native-country'],\n",
    "                    'marital-status':['race','age','sex','native-country']\n",
    "                    }\n",
    "\n",
    "node_connections_CF = {'label':['occupation','race','hours-per-week','age','education','workclass','native-country',],\n",
    "                    'occupation':['race','age','sex','marital-status','education'],\n",
    "                    'hours-per-week':['race','age','marital-status','native-country','education','sex'],\n",
    "                    'workclass':['age','marital-status','sex','education','native-country'],\n",
    "                    'relationship':['marital-status','education','age','sex','native-country'],\n",
    "                    'education':['race','age','marital-status','sex','native-country'],\n",
    "                    'marital-status':['race','age','sex','native-country']\n",
    "                    }"
   ]
  },
  {
   "cell_type": "code",
   "execution_count": 5,
   "metadata": {
    "colab": {
     "base_uri": "https://localhost:8080/",
     "height": 605
    },
    "id": "gvyTSr449x0G",
    "outputId": "ddf5fd93-9ce1-4b69-c6a2-55ba59bd0ed6"
   },
   "outputs": [],
   "source": [
    "@ignore_warnings(category=ConvergenceWarning)\n",
    "def generate_data(df,mode):\n",
    "    print(\"Generating Data for CTGAN-\",mode,\"...\")\n",
    "    ctgan = CTGAN(epochs=10, verbose=True)\n",
    "    # How much more data the synthetic dataset should contain that the OG data (This is to ensure we can\n",
    "    # take a sample that looks like the original data)\n",
    "    factor = 4\n",
    "    \n",
    "    # Define the privacy measure\n",
    "    if mode == 'FTU':\n",
    "        node_connections = node_connections_FTU\n",
    "    elif mode == 'DP':\n",
    "        node_connections = node_connections_DP\n",
    "    elif mode == 'CF':\n",
    "        node_connections = node_connections_CF\n",
    "    else:\n",
    "        print('Mode is not correct!')\n",
    "    \n",
    "    model_name = 'CTGANrootnodes' + str(mode) + '.pkl'\n",
    "    path = 'Models/' + model_name\n",
    "    if os.path.isfile(path):\n",
    "        ctgan = ctgan.load(path)\n",
    "    else:\n",
    "        # DF to fit the first model on\n",
    "        start_df = df[['race','age','sex','native-country']]\n",
    "        temp_discrete = ['race','age','sex','native-country']\n",
    "\n",
    "        print(\"Fitting root nodes...\")\n",
    "        ctgan.fit(start_df, temp_discrete)\n",
    "        ctgan.save('Models/'+model_name)\n",
    "    \n",
    "    print(\"Sampling root...\")\n",
    "    synth_df = ctgan.sample(factor * len(df.index))\n",
    "    #print('Initial nodes loaded for mode',mode)\n",
    "    \n",
    "    # Iteratively generate the data\n",
    "    for node in node_order_nl:\n",
    "         # If the node has not been generated yet\n",
    "        if node not in synth_df.columns:\n",
    "            # Grab the old data\n",
    "            empty_df = df[[node]]\n",
    "\n",
    "            # Grab the attributes that need to be looked at when generating data\n",
    "            if node in node_connections.keys():\n",
    "                attributes = node_connections[node]\n",
    "            else:\n",
    "                attributes = []\n",
    "                for n in node_order_nl:\n",
    "                    attributes.append(n)\n",
    "                    if n == node:\n",
    "                        break\n",
    "                            \n",
    "            model_name = 'CTGAN' + str(node) + str(mode) + '.pkl'\n",
    "            path = 'Models/' + model_name\n",
    "            if os.path.isfile(path):\n",
    "                ctgan = ctgan.load(path)\n",
    "                print(\"Sampling for node \", node, \"...\")\n",
    "                generated_data = ctgan.sample(len(synth_df.index))\n",
    "            else:\n",
    "                # Grab the attributes from the final df\n",
    "                gen_df = synth_df.loc[:,synth_df.columns.isin(attributes)]\n",
    "\n",
    "                # Add the old attribute to the current dataframe\n",
    "                at = df[attributes]\n",
    "                empty_df = empty_df.join(at)\n",
    "\n",
    "                temp_discrete = []\n",
    "                for d in discrete_columns:\n",
    "                    if d in gen_df.columns:\n",
    "                        temp_discrete.append(d)\n",
    "\n",
    "                print(\"Fitting for node \", node, \"...\")\n",
    "                ctgan.fit(empty_df, temp_discrete)\n",
    "\n",
    "                model_name = str(node) + str(mode)\n",
    "                ctgan.save('Models/CTGAN' + model_name + '.pkl')\n",
    "                print(\"Sampling for node \", node, \"...\")\n",
    "                generated_data = ctgan.sample(len(synth_df.index))\n",
    "                \n",
    "            # Add the generated data to the output\n",
    "            for attribute in attributes + [node]:\n",
    "                if attribute not in synth_df.columns:\n",
    "                    synth_df[attribute] = generated_data[attribute].values\n",
    "            #print('Finished node',node,'for',mode)\n",
    "    # Finally, we have to manually add the label\n",
    "    return synth_df"
   ]
  },
  {
   "cell_type": "code",
   "execution_count": 6,
   "metadata": {
    "scrolled": false
   },
   "outputs": [],
   "source": [
    "'''\n",
    "FTU results for adult dataset\n",
    "'''\n",
    "def run_experiment_CTGAN(mode):\n",
    "    # Generate the synthetic a data\n",
    "    df = PreProcessData.clean_df('data/adult.data')\n",
    "    synthetic = generate_data(df,mode)\n",
    "    get_metrics(mode,df,synthetic)\n",
    "    return df, synthetic"
   ]
  },
  {
   "cell_type": "code",
   "execution_count": 7,
   "metadata": {},
   "outputs": [
    {
     "name": "stdout",
     "output_type": "stream",
     "text": [
      "Generating Data for CTGAN- FTU ...\n",
      "Fitting root nodes...\n"
     ]
    },
    {
     "name": "stderr",
     "output_type": "stream",
     "text": [
      "Gen. (0.50) | Discrim. (-0.06): 100%|██████████| 10/10 [00:49<00:00,  4.97s/it]\n"
     ]
    },
    {
     "name": "stdout",
     "output_type": "stream",
     "text": [
      "Sampling root...\n",
      "Fitting for node  marital-status ...\n"
     ]
    },
    {
     "name": "stderr",
     "output_type": "stream",
     "text": [
      "Gen. (-0.66) | Discrim. (0.05): 100%|██████████| 10/10 [00:37<00:00,  3.75s/it]\n"
     ]
    },
    {
     "name": "stdout",
     "output_type": "stream",
     "text": [
      "Sampling for node  marital-status ...\n",
      "Fitting for node  education ...\n"
     ]
    },
    {
     "name": "stderr",
     "output_type": "stream",
     "text": [
      "Gen. (-0.63) | Discrim. (0.02): 100%|██████████| 10/10 [00:43<00:00,  4.32s/it]\n"
     ]
    },
    {
     "name": "stdout",
     "output_type": "stream",
     "text": [
      "Sampling for node  education ...\n",
      "Fitting for node  occupation ...\n"
     ]
    },
    {
     "name": "stderr",
     "output_type": "stream",
     "text": [
      "Gen. (-0.85) | Discrim. (0.02): 100%|██████████| 10/10 [00:36<00:00,  3.67s/it]\n"
     ]
    },
    {
     "name": "stdout",
     "output_type": "stream",
     "text": [
      "Sampling for node  occupation ...\n",
      "Fitting for node  hours-per-week ...\n"
     ]
    },
    {
     "name": "stderr",
     "output_type": "stream",
     "text": [
      "Gen. (-0.70) | Discrim. (0.05): 100%|██████████| 10/10 [00:50<00:00,  5.02s/it]\n"
     ]
    },
    {
     "name": "stdout",
     "output_type": "stream",
     "text": [
      "Sampling for node  hours-per-week ...\n",
      "Fitting for node  workclass ...\n"
     ]
    },
    {
     "name": "stderr",
     "output_type": "stream",
     "text": [
      "Gen. (-0.95) | Discrim. (0.01): 100%|██████████| 10/10 [00:47<00:00,  4.70s/it]\n"
     ]
    },
    {
     "name": "stdout",
     "output_type": "stream",
     "text": [
      "Sampling for node  workclass ...\n",
      "Fitting for node  relationship ...\n"
     ]
    },
    {
     "name": "stderr",
     "output_type": "stream",
     "text": [
      "Gen. (-0.57) | Discrim. (-0.09): 100%|██████████| 10/10 [00:44<00:00,  4.40s/it]\n"
     ]
    },
    {
     "name": "stdout",
     "output_type": "stream",
     "text": [
      "Sampling for node  relationship ...\n",
      "Fitting for node  label ...\n"
     ]
    },
    {
     "name": "stderr",
     "output_type": "stream",
     "text": [
      "Gen. (-0.93) | Discrim. (0.05): 100%|██████████| 10/10 [00:48<00:00,  4.82s/it]\n"
     ]
    },
    {
     "name": "stdout",
     "output_type": "stream",
     "text": [
      "Sampling for node  label ...\n",
      "Statistics for dataset for mode: FTU\n",
      "Precision: 0.9578636712300271\n",
      "Recall: 0.9226684700254223\n",
      "AUROC: 0.5042115269732189\n",
      "FTU: 0.054373052184868376\n",
      "DP: 0.05287693127330839\n"
     ]
    }
   ],
   "source": [
    "# Run the experiments with the three fariness definitions\n",
    "orig_ftu, ctgan_ftu_synth = run_experiment_CTGAN('FTU')"
   ]
  },
  {
   "cell_type": "code",
   "execution_count": 10,
   "metadata": {},
   "outputs": [
    {
     "name": "stdout",
     "output_type": "stream",
     "text": [
      "Generating Data for CTGAN- DP ...\n",
      "Fitting root nodes...\n"
     ]
    },
    {
     "name": "stderr",
     "output_type": "stream",
     "text": [
      "Gen. (0.12) | Discrim. (-0.01): 100%|██████████| 10/10 [00:54<00:00,  5.43s/it]\n"
     ]
    },
    {
     "name": "stdout",
     "output_type": "stream",
     "text": [
      "Sampling root...\n",
      "Fitting for node  marital-status ...\n"
     ]
    },
    {
     "name": "stderr",
     "output_type": "stream",
     "text": [
      "Gen. (-0.46) | Discrim. (0.01): 100%|██████████| 10/10 [00:41<00:00,  4.14s/it]\n"
     ]
    },
    {
     "name": "stdout",
     "output_type": "stream",
     "text": [
      "Sampling for node  marital-status ...\n",
      "Fitting for node  education ...\n"
     ]
    },
    {
     "name": "stderr",
     "output_type": "stream",
     "text": [
      "Gen. (-0.79) | Discrim. (0.07): 100%|██████████| 10/10 [00:39<00:00,  3.92s/it]\n"
     ]
    },
    {
     "name": "stdout",
     "output_type": "stream",
     "text": [
      "Sampling for node  education ...\n",
      "Fitting for node  occupation ...\n"
     ]
    },
    {
     "name": "stderr",
     "output_type": "stream",
     "text": [
      "Gen. (-0.72) | Discrim. (-0.02): 100%|██████████| 10/10 [00:47<00:00,  4.73s/it]\n"
     ]
    },
    {
     "name": "stdout",
     "output_type": "stream",
     "text": [
      "Sampling for node  occupation ...\n",
      "Fitting for node  hours-per-week ...\n"
     ]
    },
    {
     "name": "stderr",
     "output_type": "stream",
     "text": [
      "Gen. (-0.69) | Discrim. (0.07): 100%|██████████| 10/10 [00:48<00:00,  4.81s/it]\n"
     ]
    },
    {
     "name": "stdout",
     "output_type": "stream",
     "text": [
      "Sampling for node  hours-per-week ...\n",
      "Fitting for node  workclass ...\n"
     ]
    },
    {
     "name": "stderr",
     "output_type": "stream",
     "text": [
      "Gen. (-0.70) | Discrim. (-0.06): 100%|██████████| 10/10 [00:44<00:00,  4.47s/it]\n"
     ]
    },
    {
     "name": "stdout",
     "output_type": "stream",
     "text": [
      "Sampling for node  workclass ...\n",
      "Fitting for node  relationship ...\n"
     ]
    },
    {
     "name": "stderr",
     "output_type": "stream",
     "text": [
      "Gen. (-0.32) | Discrim. (-0.16): 100%|██████████| 10/10 [00:46<00:00,  4.63s/it]\n"
     ]
    },
    {
     "name": "stdout",
     "output_type": "stream",
     "text": [
      "Sampling for node  relationship ...\n",
      "Fitting for node  label ...\n"
     ]
    },
    {
     "name": "stderr",
     "output_type": "stream",
     "text": [
      "Gen. (-0.49) | Discrim. (-0.03): 100%|██████████| 10/10 [00:39<00:00,  3.97s/it]\n"
     ]
    },
    {
     "name": "stdout",
     "output_type": "stream",
     "text": [
      "Sampling for node  label ...\n",
      "Statistics for dataset for mode: DP\n",
      "Precision: 0.9353737854982468\n",
      "Recall: 0.9317451641715436\n",
      "AUROC: 0.4977647883672763\n",
      "FTU: 0.036138187122869835\n",
      "DP: 0.0266382525306339\n"
     ]
    }
   ],
   "source": [
    "orig_dp, ctgan_dp_synth = run_experiment_CTGAN('DP')"
   ]
  },
  {
   "cell_type": "code",
   "execution_count": 13,
   "metadata": {},
   "outputs": [
    {
     "name": "stdout",
     "output_type": "stream",
     "text": [
      "Generating Data for CTGAN- CF ...\n",
      "Fitting root nodes...\n"
     ]
    },
    {
     "name": "stderr",
     "output_type": "stream",
     "text": [
      "Gen. (0.51) | Discrim. (-0.07): 100%|██████████| 10/10 [00:59<00:00,  5.95s/it]\n"
     ]
    },
    {
     "name": "stdout",
     "output_type": "stream",
     "text": [
      "Sampling root...\n",
      "Fitting for node  marital-status ...\n"
     ]
    },
    {
     "name": "stderr",
     "output_type": "stream",
     "text": [
      "Gen. (-0.57) | Discrim. (0.11): 100%|██████████| 10/10 [00:44<00:00,  4.42s/it]\n"
     ]
    },
    {
     "name": "stdout",
     "output_type": "stream",
     "text": [
      "Sampling for node  marital-status ...\n",
      "Fitting for node  education ...\n"
     ]
    },
    {
     "name": "stderr",
     "output_type": "stream",
     "text": [
      "Gen. (-0.62) | Discrim. (0.04): 100%|██████████| 10/10 [00:45<00:00,  4.56s/it]\n"
     ]
    },
    {
     "name": "stdout",
     "output_type": "stream",
     "text": [
      "Sampling for node  education ...\n",
      "Fitting for node  occupation ...\n"
     ]
    },
    {
     "name": "stderr",
     "output_type": "stream",
     "text": [
      "Gen. (-0.62) | Discrim. (0.04): 100%|██████████| 10/10 [00:35<00:00,  3.58s/it]\n"
     ]
    },
    {
     "name": "stdout",
     "output_type": "stream",
     "text": [
      "Sampling for node  occupation ...\n",
      "Fitting for node  hours-per-week ...\n"
     ]
    },
    {
     "name": "stderr",
     "output_type": "stream",
     "text": [
      "Gen. (-0.93) | Discrim. (0.01): 100%|██████████| 10/10 [00:43<00:00,  4.38s/it]\n"
     ]
    },
    {
     "name": "stdout",
     "output_type": "stream",
     "text": [
      "Sampling for node  hours-per-week ...\n",
      "Fitting for node  workclass ...\n"
     ]
    },
    {
     "name": "stderr",
     "output_type": "stream",
     "text": [
      "Gen. (-0.59) | Discrim. (-0.04): 100%|██████████| 10/10 [00:40<00:00,  4.05s/it]\n"
     ]
    },
    {
     "name": "stdout",
     "output_type": "stream",
     "text": [
      "Sampling for node  workclass ...\n",
      "Fitting for node  relationship ...\n"
     ]
    },
    {
     "name": "stderr",
     "output_type": "stream",
     "text": [
      "Gen. (-0.73) | Discrim. (-0.04): 100%|██████████| 10/10 [00:44<00:00,  4.40s/it]\n"
     ]
    },
    {
     "name": "stdout",
     "output_type": "stream",
     "text": [
      "Sampling for node  relationship ...\n",
      "Fitting for node  label ...\n"
     ]
    },
    {
     "name": "stderr",
     "output_type": "stream",
     "text": [
      "Gen. (-0.64) | Discrim. (0.07): 100%|██████████| 10/10 [00:57<00:00,  5.76s/it]\n"
     ]
    },
    {
     "name": "stdout",
     "output_type": "stream",
     "text": [
      "Sampling for node  label ...\n",
      "Statistics for dataset for mode: CF\n",
      "Precision: 0.9699164685080178\n",
      "Recall: 0.9608823813665797\n",
      "AUROC: 0.5004801011891264\n",
      "FTU: 0.03092467343014389\n",
      "DP: 0.02970165157165683\n"
     ]
    }
   ],
   "source": [
    "orig_cf, ctgan_cf_synth = run_experiment_CTGAN('CF')"
   ]
  },
  {
   "cell_type": "code",
   "execution_count": 16,
   "metadata": {},
   "outputs": [
    {
     "data": {
      "text/html": [
       "<div>\n",
       "<style scoped>\n",
       "    .dataframe tbody tr th:only-of-type {\n",
       "        vertical-align: middle;\n",
       "    }\n",
       "\n",
       "    .dataframe tbody tr th {\n",
       "        vertical-align: top;\n",
       "    }\n",
       "\n",
       "    .dataframe thead th {\n",
       "        text-align: right;\n",
       "    }\n",
       "</style>\n",
       "<table border=\"1\" class=\"dataframe\">\n",
       "  <thead>\n",
       "    <tr style=\"text-align: right;\">\n",
       "      <th></th>\n",
       "      <th>race</th>\n",
       "      <th>age</th>\n",
       "      <th>sex</th>\n",
       "      <th>native-country</th>\n",
       "      <th>marital-status</th>\n",
       "      <th>education</th>\n",
       "      <th>occupation</th>\n",
       "      <th>hours-per-week</th>\n",
       "      <th>workclass</th>\n",
       "      <th>relationship</th>\n",
       "      <th>label</th>\n",
       "    </tr>\n",
       "  </thead>\n",
       "  <tbody>\n",
       "    <tr>\n",
       "      <th>0</th>\n",
       "      <td>0</td>\n",
       "      <td>39</td>\n",
       "      <td>0</td>\n",
       "      <td>29</td>\n",
       "      <td>2</td>\n",
       "      <td>3</td>\n",
       "      <td>3</td>\n",
       "      <td>40</td>\n",
       "      <td>0</td>\n",
       "      <td>3</td>\n",
       "      <td>1</td>\n",
       "    </tr>\n",
       "    <tr>\n",
       "      <th>1</th>\n",
       "      <td>0</td>\n",
       "      <td>46</td>\n",
       "      <td>1</td>\n",
       "      <td>0</td>\n",
       "      <td>1</td>\n",
       "      <td>14</td>\n",
       "      <td>7</td>\n",
       "      <td>35</td>\n",
       "      <td>1</td>\n",
       "      <td>1</td>\n",
       "      <td>0</td>\n",
       "    </tr>\n",
       "    <tr>\n",
       "      <th>2</th>\n",
       "      <td>0</td>\n",
       "      <td>33</td>\n",
       "      <td>0</td>\n",
       "      <td>0</td>\n",
       "      <td>5</td>\n",
       "      <td>0</td>\n",
       "      <td>3</td>\n",
       "      <td>33</td>\n",
       "      <td>0</td>\n",
       "      <td>5</td>\n",
       "      <td>1</td>\n",
       "    </tr>\n",
       "    <tr>\n",
       "      <th>3</th>\n",
       "      <td>0</td>\n",
       "      <td>44</td>\n",
       "      <td>1</td>\n",
       "      <td>0</td>\n",
       "      <td>0</td>\n",
       "      <td>3</td>\n",
       "      <td>2</td>\n",
       "      <td>67</td>\n",
       "      <td>0</td>\n",
       "      <td>2</td>\n",
       "      <td>1</td>\n",
       "    </tr>\n",
       "    <tr>\n",
       "      <th>4</th>\n",
       "      <td>0</td>\n",
       "      <td>36</td>\n",
       "      <td>1</td>\n",
       "      <td>20</td>\n",
       "      <td>0</td>\n",
       "      <td>1</td>\n",
       "      <td>4</td>\n",
       "      <td>57</td>\n",
       "      <td>5</td>\n",
       "      <td>4</td>\n",
       "      <td>1</td>\n",
       "    </tr>\n",
       "  </tbody>\n",
       "</table>\n",
       "</div>"
      ],
      "text/plain": [
       "   race  age  sex  native-country  marital-status  education  occupation  \\\n",
       "0     0   39    0              29               2          3           3   \n",
       "1     0   46    1               0               1         14           7   \n",
       "2     0   33    0               0               5          0           3   \n",
       "3     0   44    1               0               0          3           2   \n",
       "4     0   36    1              20               0          1           4   \n",
       "\n",
       "   hours-per-week  workclass  relationship  label  \n",
       "0              40          0             3      1  \n",
       "1              35          1             1      0  \n",
       "2              33          0             5      1  \n",
       "3              67          0             2      1  \n",
       "4              57          5             4      1  "
      ]
     },
     "execution_count": 16,
     "metadata": {},
     "output_type": "execute_result"
    }
   ],
   "source": [
    "# train and test DPGAN on FACTGAN synthetic data\n",
    "#clean_df = PreProcessData.clean_df('data/adult.data')\n",
    "ftu_loader = GenericDataLoader(\n",
    "    ctgan_ftu_synth,\n",
    "    target_column=\"label\",\n",
    "    sensitive_columns=[\"race\",\"sex\",\"native-country\"],\n",
    ")\n",
    "\n",
    "ftu_loader.dataframe().head()"
   ]
  },
  {
   "cell_type": "markdown",
   "metadata": {},
   "source": [
    "# Evaluate dpgan ftu for e=0.1"
   ]
  },
  {
   "cell_type": "code",
   "execution_count": 17,
   "metadata": {},
   "outputs": [
    {
     "name": "stderr",
     "output_type": "stream",
     "text": [
      "[2023-12-06T08:17:31.462531-0600][7452][INFO] Encoding race 2062340901651914458\n",
      "[2023-12-06T08:17:31.503179-0600][7452][INFO] Encoding age 7970369381195217701\n",
      "[2023-12-06T08:17:38.363703-0600][7452][INFO] Encoding sex 2653782988807700700\n",
      "[2023-12-06T08:17:38.379325-0600][7452][INFO] Encoding native-country 7988686125322825174\n",
      "[2023-12-06T08:17:46.360337-0600][7452][INFO] Encoding marital-status 3633256886493563371\n",
      "[2023-12-06T08:17:46.374337-0600][7452][INFO] Encoding education 5486981979674986280\n",
      "[2023-12-06T08:17:53.391947-0600][7452][INFO] Encoding occupation 7682068271151260256\n",
      "[2023-12-06T08:17:57.010806-0600][7452][INFO] Encoding hours-per-week 4936022831509916494\n",
      "[2023-12-06T08:18:01.452568-0600][7452][INFO] Encoding workclass 1081804396797573889\n",
      "[2023-12-06T08:18:01.468195-0600][7452][INFO] Encoding relationship 4705601766387559297\n",
      "[2023-12-06T08:18:01.482751-0600][7452][INFO] Encoding label 8356302148815017471\n",
      "[2023-12-06T08:18:09.489312-0600][7452][INFO] Training GAN on device cpu. features = 58\n",
      "100%|██████████| 10/10 [1:14:54<00:00, 449.47s/it]\n"
     ]
    },
    {
     "data": {
      "text/plain": [
       "<synthcity.plugins.privacy.plugin_dpgan.DPGANPlugin at 0x1d083236370>"
      ]
     },
     "execution_count": 17,
     "metadata": {},
     "output_type": "execute_result"
    }
   ],
   "source": [
    "from synthcity.plugins.privacy import plugin_dpgan\n",
    "\n",
    "ftu_dpgan_e01 = plugin_dpgan.DPGANPlugin(n_iter = 10, n_iter_min=1, epsilon=0.1)\n",
    "\n",
    "ftu_dpgan_e01.fit(ftu_loader)"
   ]
  },
  {
   "cell_type": "code",
   "execution_count": 18,
   "metadata": {},
   "outputs": [
    {
     "data": {
      "text/html": [
       "<div>\n",
       "<style scoped>\n",
       "    .dataframe tbody tr th:only-of-type {\n",
       "        vertical-align: middle;\n",
       "    }\n",
       "\n",
       "    .dataframe tbody tr th {\n",
       "        vertical-align: top;\n",
       "    }\n",
       "\n",
       "    .dataframe thead th {\n",
       "        text-align: right;\n",
       "    }\n",
       "</style>\n",
       "<table border=\"1\" class=\"dataframe\">\n",
       "  <thead>\n",
       "    <tr style=\"text-align: right;\">\n",
       "      <th></th>\n",
       "      <th>race</th>\n",
       "      <th>age</th>\n",
       "      <th>sex</th>\n",
       "      <th>native-country</th>\n",
       "      <th>marital-status</th>\n",
       "      <th>education</th>\n",
       "      <th>occupation</th>\n",
       "      <th>hours-per-week</th>\n",
       "      <th>workclass</th>\n",
       "      <th>relationship</th>\n",
       "      <th>label</th>\n",
       "    </tr>\n",
       "  </thead>\n",
       "  <tbody>\n",
       "    <tr>\n",
       "      <th>0</th>\n",
       "      <td>3</td>\n",
       "      <td>17</td>\n",
       "      <td>0</td>\n",
       "      <td>40</td>\n",
       "      <td>6</td>\n",
       "      <td>15</td>\n",
       "      <td>0</td>\n",
       "      <td>68</td>\n",
       "      <td>2</td>\n",
       "      <td>3</td>\n",
       "      <td>0</td>\n",
       "    </tr>\n",
       "    <tr>\n",
       "      <th>1</th>\n",
       "      <td>3</td>\n",
       "      <td>17</td>\n",
       "      <td>1</td>\n",
       "      <td>15</td>\n",
       "      <td>6</td>\n",
       "      <td>15</td>\n",
       "      <td>2</td>\n",
       "      <td>78</td>\n",
       "      <td>5</td>\n",
       "      <td>1</td>\n",
       "      <td>0</td>\n",
       "    </tr>\n",
       "    <tr>\n",
       "      <th>2</th>\n",
       "      <td>3</td>\n",
       "      <td>17</td>\n",
       "      <td>0</td>\n",
       "      <td>20</td>\n",
       "      <td>6</td>\n",
       "      <td>3</td>\n",
       "      <td>10</td>\n",
       "      <td>78</td>\n",
       "      <td>1</td>\n",
       "      <td>0</td>\n",
       "      <td>0</td>\n",
       "    </tr>\n",
       "    <tr>\n",
       "      <th>3</th>\n",
       "      <td>1</td>\n",
       "      <td>30</td>\n",
       "      <td>0</td>\n",
       "      <td>26</td>\n",
       "      <td>5</td>\n",
       "      <td>2</td>\n",
       "      <td>0</td>\n",
       "      <td>61</td>\n",
       "      <td>2</td>\n",
       "      <td>5</td>\n",
       "      <td>0</td>\n",
       "    </tr>\n",
       "    <tr>\n",
       "      <th>4</th>\n",
       "      <td>3</td>\n",
       "      <td>17</td>\n",
       "      <td>0</td>\n",
       "      <td>26</td>\n",
       "      <td>6</td>\n",
       "      <td>3</td>\n",
       "      <td>2</td>\n",
       "      <td>71</td>\n",
       "      <td>1</td>\n",
       "      <td>3</td>\n",
       "      <td>0</td>\n",
       "    </tr>\n",
       "  </tbody>\n",
       "</table>\n",
       "</div>"
      ],
      "text/plain": [
       "   race  age  sex  native-country  marital-status  education  occupation  \\\n",
       "0     3   17    0              40               6         15           0   \n",
       "1     3   17    1              15               6         15           2   \n",
       "2     3   17    0              20               6          3          10   \n",
       "3     1   30    0              26               5          2           0   \n",
       "4     3   17    0              26               6          3           2   \n",
       "\n",
       "   hours-per-week  workclass  relationship  label  \n",
       "0              68          2             3      0  \n",
       "1              78          5             1      0  \n",
       "2              78          1             0      0  \n",
       "3              61          2             5      0  \n",
       "4              71          1             3      0  "
      ]
     },
     "execution_count": 18,
     "metadata": {},
     "output_type": "execute_result"
    }
   ],
   "source": [
    "ftu_dpgan_e01_df = ftu_dpgan_e01.generate(count=75000).dataframe()\n",
    "ftu_dpgan_e01_df.head()"
   ]
  },
  {
   "cell_type": "code",
   "execution_count": 23,
   "metadata": {},
   "outputs": [
    {
     "name": "stdout",
     "output_type": "stream",
     "text": [
      "Statistics for dataset for mode: ftu_dpgan_e01\n",
      "Precision: 0.17123935666982024\n",
      "Recall: 0.9983452840595698\n",
      "AUROC: 0.4997997084988306\n",
      "FTU: 0.0016133333333333334\n",
      "DP: 0.0013837180481198752\n"
     ]
    }
   ],
   "source": [
    "get_metrics(\"ftu_dpgan_e01\", ftu_loader.dataframe(), ftu_dpgan_e01_df)"
   ]
  },
  {
   "cell_type": "code",
   "execution_count": 24,
   "metadata": {},
   "outputs": [
    {
     "name": "stderr",
     "output_type": "stream",
     "text": [
      "[2023-12-06T10:05:56.143486-0600][7452][INFO] Testcase : test_eps_0.1\n",
      "[2023-12-06T10:05:56.153017-0600][7452][INFO] [testcase] Experiment repeat: 0 task type: classification Train df hash = 6103139906204711075\n",
      "[2023-12-06T10:06:15.819518-0600][7452][INFO] Encoding race 8527038700282154753\n",
      "[2023-12-06T10:06:15.835146-0600][7452][INFO] Encoding age 6087873872986842804\n",
      "[2023-12-06T10:06:20.651815-0600][7452][INFO] Encoding sex 368158753243843503\n",
      "[2023-12-06T10:06:20.651815-0600][7452][INFO] Encoding native-country 470440733214006603\n",
      "[2023-12-06T10:06:26.342530-0600][7452][INFO] Encoding marital-status 6020789638600839186\n",
      "[2023-12-06T10:06:26.355202-0600][7452][INFO] Encoding education 8506752458204124020\n",
      "[2023-12-06T10:06:31.895574-0600][7452][INFO] Encoding occupation 6236357910713540756\n",
      "[2023-12-06T10:06:34.311425-0600][7452][INFO] Encoding hours-per-week 535253690936423005\n",
      "[2023-12-06T10:06:37.545511-0600][7452][INFO] Encoding workclass 3878359790808055015\n",
      "[2023-12-06T10:06:37.561185-0600][7452][INFO] Encoding relationship 8439906152231702834\n",
      "[2023-12-06T10:06:37.583577-0600][7452][INFO] Encoding label 5117708275158476495\n",
      "[2023-12-06T10:06:42.609841-0600][7452][INFO] Training GAN on device cpu. features = 58\n",
      "100%|██████████| 10/10 [1:02:12<00:00, 373.22s/it]\n",
      "[2023-12-06T11:15:28.890536-0600][7452][INFO] [testcase] Experiment repeat: 1 task type: classification Train df hash = 6103139906204711075\n",
      "[2023-12-06T11:15:29.047581-0600][7452][INFO] Encoding race 8527038700282154753\n",
      "[2023-12-06T11:15:29.063217-0600][7452][INFO] Encoding age 6087873872986842804\n",
      "[2023-12-06T11:15:34.097091-0600][7452][INFO] Encoding sex 368158753243843503\n",
      "[2023-12-06T11:15:34.111486-0600][7452][INFO] Encoding native-country 470440733214006603\n",
      "[2023-12-06T11:15:40.157761-0600][7452][INFO] Encoding marital-status 6020789638600839186\n",
      "[2023-12-06T11:15:40.173398-0600][7452][INFO] Encoding education 8506752458204124020\n",
      "[2023-12-06T11:15:45.906795-0600][7452][INFO] Encoding occupation 6236357910713540756\n",
      "[2023-12-06T11:15:48.552496-0600][7452][INFO] Encoding hours-per-week 535253690936423005\n",
      "[2023-12-06T11:15:52.131285-0600][7452][INFO] Encoding workclass 3878359790808055015\n",
      "[2023-12-06T11:15:52.146924-0600][7452][INFO] Encoding relationship 8439906152231702834\n",
      "[2023-12-06T11:15:52.174199-0600][7452][INFO] Encoding label 5117708275158476495\n",
      "[2023-12-06T11:15:58.169427-0600][7452][INFO] Training GAN on device cpu. features = 58\n",
      "100%|██████████| 10/10 [1:00:44<00:00, 364.40s/it]\n"
     ]
    }
   ],
   "source": [
    "from synthcity.benchmark import Benchmarks\n",
    "\n",
    "ftu_dpgan_e01_score = Benchmarks.evaluate(\n",
    "    [(\"test_eps_0.1\", \"dpgan\", {\"epsilon\": 0.1, \"n_iter\": 10, \"n_iter_min\": 1})],\n",
    "    ftu_loader,\n",
    "    synthetic_size=75000,\n",
    "    repeats=2,\n",
    "    metrics={\n",
    "        'privacy': ['delta-presence', 'identifiability_score', 'DomiasMIA_prior']\n",
    "    }\n",
    ")"
   ]
  },
  {
   "cell_type": "code",
   "execution_count": 25,
   "metadata": {},
   "outputs": [
    {
     "name": "stdout",
     "output_type": "stream",
     "text": [
      "\n",
      "\u001b[4m\u001b[1mPlugin : test_eps_0.1\u001b[0m\u001b[0m\n"
     ]
    },
    {
     "data": {
      "text/html": [
       "<div>\n",
       "<style scoped>\n",
       "    .dataframe tbody tr th:only-of-type {\n",
       "        vertical-align: middle;\n",
       "    }\n",
       "\n",
       "    .dataframe tbody tr th {\n",
       "        vertical-align: top;\n",
       "    }\n",
       "\n",
       "    .dataframe thead th {\n",
       "        text-align: right;\n",
       "    }\n",
       "</style>\n",
       "<table border=\"1\" class=\"dataframe\">\n",
       "  <thead>\n",
       "    <tr style=\"text-align: right;\">\n",
       "      <th></th>\n",
       "      <th>min</th>\n",
       "      <th>max</th>\n",
       "      <th>mean</th>\n",
       "      <th>stddev</th>\n",
       "      <th>median</th>\n",
       "      <th>iqr</th>\n",
       "      <th>rounds</th>\n",
       "      <th>errors</th>\n",
       "      <th>durations</th>\n",
       "    </tr>\n",
       "  </thead>\n",
       "  <tbody>\n",
       "    <tr>\n",
       "      <th>privacy.delta-presence.score</th>\n",
       "      <td>966.999990</td>\n",
       "      <td>2090.999979</td>\n",
       "      <td>1528.999985</td>\n",
       "      <td>561.999994</td>\n",
       "      <td>1528.999985</td>\n",
       "      <td>561.999994</td>\n",
       "      <td>2</td>\n",
       "      <td>0</td>\n",
       "      <td>1.03</td>\n",
       "    </tr>\n",
       "    <tr>\n",
       "      <th>privacy.identifiability_score.score</th>\n",
       "      <td>0.013344</td>\n",
       "      <td>0.022047</td>\n",
       "      <td>0.017696</td>\n",
       "      <td>0.004351</td>\n",
       "      <td>0.017696</td>\n",
       "      <td>0.004351</td>\n",
       "      <td>2</td>\n",
       "      <td>0</td>\n",
       "      <td>16.68</td>\n",
       "    </tr>\n",
       "    <tr>\n",
       "      <th>privacy.identifiability_score.score_OC</th>\n",
       "      <td>0.025114</td>\n",
       "      <td>0.040530</td>\n",
       "      <td>0.032822</td>\n",
       "      <td>0.007708</td>\n",
       "      <td>0.032822</td>\n",
       "      <td>0.007708</td>\n",
       "      <td>2</td>\n",
       "      <td>0</td>\n",
       "      <td>16.68</td>\n",
       "    </tr>\n",
       "    <tr>\n",
       "      <th>privacy.DomiasMIA_prior.accuracy</th>\n",
       "      <td>0.499979</td>\n",
       "      <td>0.500000</td>\n",
       "      <td>0.499990</td>\n",
       "      <td>0.001000</td>\n",
       "      <td>0.499990</td>\n",
       "      <td>0.000010</td>\n",
       "      <td>2</td>\n",
       "      <td>0</td>\n",
       "      <td>346.60</td>\n",
       "    </tr>\n",
       "    <tr>\n",
       "      <th>privacy.DomiasMIA_prior.aucroc</th>\n",
       "      <td>0.412077</td>\n",
       "      <td>0.414749</td>\n",
       "      <td>0.413413</td>\n",
       "      <td>0.001336</td>\n",
       "      <td>0.413413</td>\n",
       "      <td>0.001336</td>\n",
       "      <td>2</td>\n",
       "      <td>0</td>\n",
       "      <td>346.60</td>\n",
       "    </tr>\n",
       "  </tbody>\n",
       "</table>\n",
       "</div>"
      ],
      "text/plain": [
       "                                               min          max         mean  \\\n",
       "privacy.delta-presence.score            966.999990  2090.999979  1528.999985   \n",
       "privacy.identifiability_score.score       0.013344     0.022047     0.017696   \n",
       "privacy.identifiability_score.score_OC    0.025114     0.040530     0.032822   \n",
       "privacy.DomiasMIA_prior.accuracy          0.499979     0.500000     0.499990   \n",
       "privacy.DomiasMIA_prior.aucroc            0.412077     0.414749     0.413413   \n",
       "\n",
       "                                            stddev       median         iqr  \\\n",
       "privacy.delta-presence.score            561.999994  1528.999985  561.999994   \n",
       "privacy.identifiability_score.score       0.004351     0.017696    0.004351   \n",
       "privacy.identifiability_score.score_OC    0.007708     0.032822    0.007708   \n",
       "privacy.DomiasMIA_prior.accuracy          0.001000     0.499990    0.000010   \n",
       "privacy.DomiasMIA_prior.aucroc            0.001336     0.413413    0.001336   \n",
       "\n",
       "                                       rounds errors  durations  \n",
       "privacy.delta-presence.score                2      0       1.03  \n",
       "privacy.identifiability_score.score         2      0      16.68  \n",
       "privacy.identifiability_score.score_OC      2      0      16.68  \n",
       "privacy.DomiasMIA_prior.accuracy            2      0     346.60  \n",
       "privacy.DomiasMIA_prior.aucroc              2      0     346.60  "
      ]
     },
     "metadata": {},
     "output_type": "display_data"
    },
    {
     "name": "stdout",
     "output_type": "stream",
     "text": [
      "\n"
     ]
    }
   ],
   "source": [
    "Benchmarks.print(ftu_dpgan_e01_score)"
   ]
  },
  {
   "cell_type": "markdown",
   "metadata": {},
   "source": [
    "# Evaluate dpgan ftu for e=1"
   ]
  },
  {
   "cell_type": "code",
   "execution_count": 26,
   "metadata": {},
   "outputs": [
    {
     "name": "stderr",
     "output_type": "stream",
     "text": [
      "[2023-12-06T12:25:50.228877-0600][7452][INFO] Encoding race 2062340901651914458\n",
      "[2023-12-06T12:25:50.249083-0600][7452][INFO] Encoding age 7970369381195217701\n",
      "[2023-12-06T12:25:56.742707-0600][7452][INFO] Encoding sex 2653782988807700700\n",
      "[2023-12-06T12:25:56.858199-0600][7452][INFO] Encoding native-country 7988686125322825174\n",
      "[2023-12-06T12:26:05.832699-0600][7452][INFO] Encoding marital-status 3633256886493563371\n",
      "[2023-12-06T12:26:05.854187-0600][7452][INFO] Encoding education 5486981979674986280\n",
      "[2023-12-06T12:26:14.085762-0600][7452][INFO] Encoding occupation 7682068271151260256\n",
      "[2023-12-06T12:26:17.832521-0600][7452][INFO] Encoding hours-per-week 4936022831509916494\n",
      "[2023-12-06T12:26:22.697423-0600][7452][INFO] Encoding workclass 1081804396797573889\n",
      "[2023-12-06T12:26:22.713086-0600][7452][INFO] Encoding relationship 4705601766387559297\n",
      "[2023-12-06T12:26:22.736213-0600][7452][INFO] Encoding label 8356302148815017471\n",
      "[2023-12-06T12:26:30.483745-0600][7452][INFO] Training GAN on device cpu. features = 58\n",
      "100%|██████████| 10/10 [1:21:36<00:00, 489.63s/it]\n"
     ]
    },
    {
     "data": {
      "text/plain": [
       "<synthcity.plugins.privacy.plugin_dpgan.DPGANPlugin at 0x1d0a2ea3b20>"
      ]
     },
     "execution_count": 26,
     "metadata": {},
     "output_type": "execute_result"
    }
   ],
   "source": [
    "# Evaluate dpgan ftu for e=1\n",
    "ftu_dpgan_e1 = plugin_dpgan.DPGANPlugin(n_iter = 10, n_iter_min=1, epsilon=1)\n",
    "ftu_dpgan_e1.fit(ftu_loader)"
   ]
  },
  {
   "cell_type": "code",
   "execution_count": 27,
   "metadata": {},
   "outputs": [
    {
     "data": {
      "text/html": [
       "<div>\n",
       "<style scoped>\n",
       "    .dataframe tbody tr th:only-of-type {\n",
       "        vertical-align: middle;\n",
       "    }\n",
       "\n",
       "    .dataframe tbody tr th {\n",
       "        vertical-align: top;\n",
       "    }\n",
       "\n",
       "    .dataframe thead th {\n",
       "        text-align: right;\n",
       "    }\n",
       "</style>\n",
       "<table border=\"1\" class=\"dataframe\">\n",
       "  <thead>\n",
       "    <tr style=\"text-align: right;\">\n",
       "      <th></th>\n",
       "      <th>race</th>\n",
       "      <th>age</th>\n",
       "      <th>sex</th>\n",
       "      <th>native-country</th>\n",
       "      <th>marital-status</th>\n",
       "      <th>education</th>\n",
       "      <th>occupation</th>\n",
       "      <th>hours-per-week</th>\n",
       "      <th>workclass</th>\n",
       "      <th>relationship</th>\n",
       "      <th>label</th>\n",
       "    </tr>\n",
       "  </thead>\n",
       "  <tbody>\n",
       "    <tr>\n",
       "      <th>0</th>\n",
       "      <td>4</td>\n",
       "      <td>38</td>\n",
       "      <td>0</td>\n",
       "      <td>40</td>\n",
       "      <td>5</td>\n",
       "      <td>8</td>\n",
       "      <td>0</td>\n",
       "      <td>47</td>\n",
       "      <td>3</td>\n",
       "      <td>0</td>\n",
       "      <td>0</td>\n",
       "    </tr>\n",
       "    <tr>\n",
       "      <th>1</th>\n",
       "      <td>2</td>\n",
       "      <td>38</td>\n",
       "      <td>1</td>\n",
       "      <td>40</td>\n",
       "      <td>5</td>\n",
       "      <td>8</td>\n",
       "      <td>0</td>\n",
       "      <td>47</td>\n",
       "      <td>3</td>\n",
       "      <td>0</td>\n",
       "      <td>0</td>\n",
       "    </tr>\n",
       "    <tr>\n",
       "      <th>2</th>\n",
       "      <td>2</td>\n",
       "      <td>38</td>\n",
       "      <td>1</td>\n",
       "      <td>40</td>\n",
       "      <td>5</td>\n",
       "      <td>8</td>\n",
       "      <td>0</td>\n",
       "      <td>15</td>\n",
       "      <td>3</td>\n",
       "      <td>0</td>\n",
       "      <td>0</td>\n",
       "    </tr>\n",
       "    <tr>\n",
       "      <th>3</th>\n",
       "      <td>2</td>\n",
       "      <td>38</td>\n",
       "      <td>1</td>\n",
       "      <td>27</td>\n",
       "      <td>5</td>\n",
       "      <td>7</td>\n",
       "      <td>0</td>\n",
       "      <td>89</td>\n",
       "      <td>4</td>\n",
       "      <td>4</td>\n",
       "      <td>0</td>\n",
       "    </tr>\n",
       "    <tr>\n",
       "      <th>4</th>\n",
       "      <td>2</td>\n",
       "      <td>38</td>\n",
       "      <td>1</td>\n",
       "      <td>40</td>\n",
       "      <td>5</td>\n",
       "      <td>17</td>\n",
       "      <td>0</td>\n",
       "      <td>49</td>\n",
       "      <td>3</td>\n",
       "      <td>0</td>\n",
       "      <td>0</td>\n",
       "    </tr>\n",
       "  </tbody>\n",
       "</table>\n",
       "</div>"
      ],
      "text/plain": [
       "   race  age  sex  native-country  marital-status  education  occupation  \\\n",
       "0     4   38    0              40               5          8           0   \n",
       "1     2   38    1              40               5          8           0   \n",
       "2     2   38    1              40               5          8           0   \n",
       "3     2   38    1              27               5          7           0   \n",
       "4     2   38    1              40               5         17           0   \n",
       "\n",
       "   hours-per-week  workclass  relationship  label  \n",
       "0              47          3             0      0  \n",
       "1              47          3             0      0  \n",
       "2              15          3             0      0  \n",
       "3              89          4             4      0  \n",
       "4              49          3             0      0  "
      ]
     },
     "execution_count": 27,
     "metadata": {},
     "output_type": "execute_result"
    }
   ],
   "source": [
    "ftu_dpgan_e1_df = ftu_dpgan_e1.generate(count=75000).dataframe()\n",
    "ftu_dpgan_e1_df.head()"
   ]
  },
  {
   "cell_type": "code",
   "execution_count": 35,
   "metadata": {},
   "outputs": [
    {
     "name": "stdout",
     "output_type": "stream",
     "text": [
      "Statistics for dataset for mode: ftu_dpgan_e1\n",
      "Precision: 0.010563193375444556\n",
      "Recall: 0.995\n",
      "AUROC: 0.49865077878285075\n",
      "FTU: 0.0012133333333333334\n",
      "DP: 0.00318956438929352\n"
     ]
    }
   ],
   "source": [
    "get_metrics(\"ftu_dpgan_e1\", ftu_loader.dataframe(), ftu_dpgan_e1_df)"
   ]
  },
  {
   "cell_type": "code",
   "execution_count": 36,
   "metadata": {},
   "outputs": [
    {
     "name": "stderr",
     "output_type": "stream",
     "text": [
      "[2023-12-06T14:04:52.500019-0600][7452][INFO] Testcase : test_eps_1\n",
      "[2023-12-06T14:04:52.504024-0600][7452][INFO] [testcase] Experiment repeat: 0 task type: classification Train df hash = 6103139906204711075\n",
      "[2023-12-06T14:04:52.673518-0600][7452][INFO] Encoding race 8527038700282154753\n",
      "[2023-12-06T14:04:52.685150-0600][7452][INFO] Encoding age 6087873872986842804\n",
      "[2023-12-06T14:04:58.203123-0600][7452][INFO] Encoding sex 368158753243843503\n",
      "[2023-12-06T14:04:58.203509-0600][7452][INFO] Encoding native-country 470440733214006603\n",
      "[2023-12-06T14:05:04.547558-0600][7452][INFO] Encoding marital-status 6020789638600839186\n",
      "[2023-12-06T14:05:04.551751-0600][7452][INFO] Encoding education 8506752458204124020\n",
      "[2023-12-06T14:05:10.457156-0600][7452][INFO] Encoding occupation 6236357910713540756\n",
      "[2023-12-06T14:05:13.125128-0600][7452][INFO] Encoding hours-per-week 535253690936423005\n",
      "[2023-12-06T14:05:16.416691-0600][7452][INFO] Encoding workclass 3878359790808055015\n",
      "[2023-12-06T14:05:16.427918-0600][7452][INFO] Encoding relationship 8439906152231702834\n",
      "[2023-12-06T14:05:16.444985-0600][7452][INFO] Encoding label 5117708275158476495\n",
      "[2023-12-06T14:05:21.638706-0600][7452][INFO] Training GAN on device cpu. features = 58\n",
      "100%|██████████| 10/10 [1:04:17<00:00, 385.77s/it]\n",
      "[2023-12-06T15:16:01.520900-0600][7452][INFO] [testcase] Experiment repeat: 1 task type: classification Train df hash = 6103139906204711075\n",
      "[2023-12-06T15:16:01.742153-0600][7452][INFO] Encoding race 8527038700282154753\n",
      "[2023-12-06T15:16:01.761649-0600][7452][INFO] Encoding age 6087873872986842804\n",
      "[2023-12-06T15:16:07.023029-0600][7452][INFO] Encoding sex 368158753243843503\n",
      "[2023-12-06T15:16:07.038654-0600][7452][INFO] Encoding native-country 470440733214006603\n",
      "[2023-12-06T15:16:13.202671-0600][7452][INFO] Encoding marital-status 6020789638600839186\n",
      "[2023-12-06T15:16:13.233923-0600][7452][INFO] Encoding education 8506752458204124020\n",
      "[2023-12-06T15:16:19.001392-0600][7452][INFO] Encoding occupation 6236357910713540756\n",
      "[2023-12-06T15:16:21.827909-0600][7452][INFO] Encoding hours-per-week 535253690936423005\n",
      "[2023-12-06T15:16:25.447736-0600][7452][INFO] Encoding workclass 3878359790808055015\n",
      "[2023-12-06T15:16:25.463402-0600][7452][INFO] Encoding relationship 8439906152231702834\n",
      "[2023-12-06T15:16:25.483808-0600][7452][INFO] Encoding label 5117708275158476495\n",
      "[2023-12-06T15:16:31.159367-0600][7452][INFO] Training GAN on device cpu. features = 58\n",
      "100%|██████████| 10/10 [1:03:47<00:00, 382.77s/it]\n"
     ]
    }
   ],
   "source": [
    "ftu_dpgan_e1_score = Benchmarks.evaluate(\n",
    "    [(\"test_eps_1\", \"dpgan\", {\"epsilon\": 1, \"n_iter\": 10, \"n_iter_min\": 1})],\n",
    "    ftu_loader,\n",
    "    synthetic_size=75000,\n",
    "    repeats=2,\n",
    "    metrics={\n",
    "        'privacy': ['delta-presence', 'identifiability_score', 'DomiasMIA_prior']\n",
    "    }\n",
    ")"
   ]
  },
  {
   "cell_type": "code",
   "execution_count": 37,
   "metadata": {},
   "outputs": [
    {
     "name": "stdout",
     "output_type": "stream",
     "text": [
      "\n",
      "\u001b[4m\u001b[1mPlugin : test_eps_1\u001b[0m\u001b[0m\n"
     ]
    },
    {
     "data": {
      "text/html": [
       "<div>\n",
       "<style scoped>\n",
       "    .dataframe tbody tr th:only-of-type {\n",
       "        vertical-align: middle;\n",
       "    }\n",
       "\n",
       "    .dataframe tbody tr th {\n",
       "        vertical-align: top;\n",
       "    }\n",
       "\n",
       "    .dataframe thead th {\n",
       "        text-align: right;\n",
       "    }\n",
       "</style>\n",
       "<table border=\"1\" class=\"dataframe\">\n",
       "  <thead>\n",
       "    <tr style=\"text-align: right;\">\n",
       "      <th></th>\n",
       "      <th>min</th>\n",
       "      <th>max</th>\n",
       "      <th>mean</th>\n",
       "      <th>stddev</th>\n",
       "      <th>median</th>\n",
       "      <th>iqr</th>\n",
       "      <th>rounds</th>\n",
       "      <th>errors</th>\n",
       "      <th>durations</th>\n",
       "    </tr>\n",
       "  </thead>\n",
       "  <tbody>\n",
       "    <tr>\n",
       "      <th>privacy.delta-presence.score</th>\n",
       "      <td>696.999998</td>\n",
       "      <td>2090.999979</td>\n",
       "      <td>1393.999988</td>\n",
       "      <td>696.999991</td>\n",
       "      <td>1393.999988</td>\n",
       "      <td>696.999991</td>\n",
       "      <td>2</td>\n",
       "      <td>0</td>\n",
       "      <td>0.96</td>\n",
       "    </tr>\n",
       "    <tr>\n",
       "      <th>privacy.identifiability_score.score</th>\n",
       "      <td>0.012723</td>\n",
       "      <td>0.020099</td>\n",
       "      <td>0.016411</td>\n",
       "      <td>0.003688</td>\n",
       "      <td>0.016411</td>\n",
       "      <td>0.003688</td>\n",
       "      <td>2</td>\n",
       "      <td>0</td>\n",
       "      <td>2.53</td>\n",
       "    </tr>\n",
       "    <tr>\n",
       "      <th>privacy.identifiability_score.score_OC</th>\n",
       "      <td>0.046332</td>\n",
       "      <td>0.053212</td>\n",
       "      <td>0.049772</td>\n",
       "      <td>0.003440</td>\n",
       "      <td>0.049772</td>\n",
       "      <td>0.003440</td>\n",
       "      <td>2</td>\n",
       "      <td>0</td>\n",
       "      <td>2.53</td>\n",
       "    </tr>\n",
       "    <tr>\n",
       "      <th>privacy.DomiasMIA_prior.accuracy</th>\n",
       "      <td>0.499959</td>\n",
       "      <td>0.499979</td>\n",
       "      <td>0.499969</td>\n",
       "      <td>0.001000</td>\n",
       "      <td>0.499969</td>\n",
       "      <td>0.000010</td>\n",
       "      <td>2</td>\n",
       "      <td>0</td>\n",
       "      <td>347.21</td>\n",
       "    </tr>\n",
       "    <tr>\n",
       "      <th>privacy.DomiasMIA_prior.aucroc</th>\n",
       "      <td>0.348236</td>\n",
       "      <td>0.369448</td>\n",
       "      <td>0.358842</td>\n",
       "      <td>0.010606</td>\n",
       "      <td>0.358842</td>\n",
       "      <td>0.010606</td>\n",
       "      <td>2</td>\n",
       "      <td>0</td>\n",
       "      <td>347.21</td>\n",
       "    </tr>\n",
       "  </tbody>\n",
       "</table>\n",
       "</div>"
      ],
      "text/plain": [
       "                                               min          max         mean  \\\n",
       "privacy.delta-presence.score            696.999998  2090.999979  1393.999988   \n",
       "privacy.identifiability_score.score       0.012723     0.020099     0.016411   \n",
       "privacy.identifiability_score.score_OC    0.046332     0.053212     0.049772   \n",
       "privacy.DomiasMIA_prior.accuracy          0.499959     0.499979     0.499969   \n",
       "privacy.DomiasMIA_prior.aucroc            0.348236     0.369448     0.358842   \n",
       "\n",
       "                                            stddev       median         iqr  \\\n",
       "privacy.delta-presence.score            696.999991  1393.999988  696.999991   \n",
       "privacy.identifiability_score.score       0.003688     0.016411    0.003688   \n",
       "privacy.identifiability_score.score_OC    0.003440     0.049772    0.003440   \n",
       "privacy.DomiasMIA_prior.accuracy          0.001000     0.499969    0.000010   \n",
       "privacy.DomiasMIA_prior.aucroc            0.010606     0.358842    0.010606   \n",
       "\n",
       "                                       rounds errors  durations  \n",
       "privacy.delta-presence.score                2      0       0.96  \n",
       "privacy.identifiability_score.score         2      0       2.53  \n",
       "privacy.identifiability_score.score_OC      2      0       2.53  \n",
       "privacy.DomiasMIA_prior.accuracy            2      0     347.21  \n",
       "privacy.DomiasMIA_prior.aucroc              2      0     347.21  "
      ]
     },
     "metadata": {},
     "output_type": "display_data"
    },
    {
     "name": "stdout",
     "output_type": "stream",
     "text": [
      "\n"
     ]
    }
   ],
   "source": [
    "Benchmarks.print(ftu_dpgan_e1_score)"
   ]
  },
  {
   "cell_type": "markdown",
   "metadata": {},
   "source": [
    "# Evaluate dpgan ftu for e=10"
   ]
  },
  {
   "cell_type": "code",
   "execution_count": 39,
   "metadata": {},
   "outputs": [
    {
     "name": "stderr",
     "output_type": "stream",
     "text": [
      "[2023-12-06T16:33:12.972701-0600][7452][INFO] Encoding race 2062340901651914458\n",
      "[2023-12-06T16:33:12.995196-0600][7452][INFO] Encoding age 7970369381195217701\n",
      "[2023-12-06T16:33:20.010117-0600][7452][INFO] Encoding sex 2653782988807700700\n",
      "[2023-12-06T16:33:20.035100-0600][7452][INFO] Encoding native-country 7988686125322825174\n",
      "[2023-12-06T16:33:28.629035-0600][7452][INFO] Encoding marital-status 3633256886493563371\n",
      "[2023-12-06T16:33:28.637978-0600][7452][INFO] Encoding education 5486981979674986280\n",
      "[2023-12-06T16:33:35.964569-0600][7452][INFO] Encoding occupation 7682068271151260256\n",
      "[2023-12-06T16:33:39.746238-0600][7452][INFO] Encoding hours-per-week 4936022831509916494\n",
      "[2023-12-06T16:33:44.758529-0600][7452][INFO] Encoding workclass 1081804396797573889\n",
      "[2023-12-06T16:33:44.774151-0600][7452][INFO] Encoding relationship 4705601766387559297\n",
      "[2023-12-06T16:33:44.796543-0600][7452][INFO] Encoding label 8356302148815017471\n",
      "[2023-12-06T16:33:53.085114-0600][7452][INFO] Training GAN on device cpu. features = 58\n",
      "100%|██████████| 10/10 [1:23:40<00:00, 502.07s/it]\n"
     ]
    },
    {
     "data": {
      "text/plain": [
       "<synthcity.plugins.privacy.plugin_dpgan.DPGANPlugin at 0x1d0a6ee18e0>"
      ]
     },
     "execution_count": 39,
     "metadata": {},
     "output_type": "execute_result"
    }
   ],
   "source": [
    "ftu_dpgan_e10 = plugin_dpgan.DPGANPlugin(n_iter = 10, n_iter_min=1, epsilon=10)\n",
    "ftu_dpgan_e10.fit(ftu_loader)"
   ]
  },
  {
   "cell_type": "code",
   "execution_count": 40,
   "metadata": {},
   "outputs": [
    {
     "data": {
      "text/html": [
       "<div>\n",
       "<style scoped>\n",
       "    .dataframe tbody tr th:only-of-type {\n",
       "        vertical-align: middle;\n",
       "    }\n",
       "\n",
       "    .dataframe tbody tr th {\n",
       "        vertical-align: top;\n",
       "    }\n",
       "\n",
       "    .dataframe thead th {\n",
       "        text-align: right;\n",
       "    }\n",
       "</style>\n",
       "<table border=\"1\" class=\"dataframe\">\n",
       "  <thead>\n",
       "    <tr style=\"text-align: right;\">\n",
       "      <th></th>\n",
       "      <th>race</th>\n",
       "      <th>age</th>\n",
       "      <th>sex</th>\n",
       "      <th>native-country</th>\n",
       "      <th>marital-status</th>\n",
       "      <th>education</th>\n",
       "      <th>occupation</th>\n",
       "      <th>hours-per-week</th>\n",
       "      <th>workclass</th>\n",
       "      <th>relationship</th>\n",
       "      <th>label</th>\n",
       "    </tr>\n",
       "  </thead>\n",
       "  <tbody>\n",
       "    <tr>\n",
       "      <th>0</th>\n",
       "      <td>4</td>\n",
       "      <td>38</td>\n",
       "      <td>1</td>\n",
       "      <td>20</td>\n",
       "      <td>4</td>\n",
       "      <td>15</td>\n",
       "      <td>14</td>\n",
       "      <td>15</td>\n",
       "      <td>5</td>\n",
       "      <td>1</td>\n",
       "      <td>0</td>\n",
       "    </tr>\n",
       "    <tr>\n",
       "      <th>1</th>\n",
       "      <td>4</td>\n",
       "      <td>38</td>\n",
       "      <td>1</td>\n",
       "      <td>20</td>\n",
       "      <td>4</td>\n",
       "      <td>3</td>\n",
       "      <td>14</td>\n",
       "      <td>15</td>\n",
       "      <td>5</td>\n",
       "      <td>1</td>\n",
       "      <td>0</td>\n",
       "    </tr>\n",
       "    <tr>\n",
       "      <th>2</th>\n",
       "      <td>4</td>\n",
       "      <td>38</td>\n",
       "      <td>1</td>\n",
       "      <td>19</td>\n",
       "      <td>4</td>\n",
       "      <td>3</td>\n",
       "      <td>14</td>\n",
       "      <td>15</td>\n",
       "      <td>5</td>\n",
       "      <td>1</td>\n",
       "      <td>0</td>\n",
       "    </tr>\n",
       "    <tr>\n",
       "      <th>3</th>\n",
       "      <td>4</td>\n",
       "      <td>38</td>\n",
       "      <td>1</td>\n",
       "      <td>19</td>\n",
       "      <td>4</td>\n",
       "      <td>3</td>\n",
       "      <td>14</td>\n",
       "      <td>15</td>\n",
       "      <td>2</td>\n",
       "      <td>1</td>\n",
       "      <td>0</td>\n",
       "    </tr>\n",
       "    <tr>\n",
       "      <th>4</th>\n",
       "      <td>3</td>\n",
       "      <td>39</td>\n",
       "      <td>1</td>\n",
       "      <td>20</td>\n",
       "      <td>3</td>\n",
       "      <td>3</td>\n",
       "      <td>11</td>\n",
       "      <td>15</td>\n",
       "      <td>2</td>\n",
       "      <td>4</td>\n",
       "      <td>0</td>\n",
       "    </tr>\n",
       "  </tbody>\n",
       "</table>\n",
       "</div>"
      ],
      "text/plain": [
       "   race  age  sex  native-country  marital-status  education  occupation  \\\n",
       "0     4   38    1              20               4         15          14   \n",
       "1     4   38    1              20               4          3          14   \n",
       "2     4   38    1              19               4          3          14   \n",
       "3     4   38    1              19               4          3          14   \n",
       "4     3   39    1              20               3          3          11   \n",
       "\n",
       "   hours-per-week  workclass  relationship  label  \n",
       "0              15          5             1      0  \n",
       "1              15          5             1      0  \n",
       "2              15          5             1      0  \n",
       "3              15          2             1      0  \n",
       "4              15          2             4      0  "
      ]
     },
     "execution_count": 40,
     "metadata": {},
     "output_type": "execute_result"
    }
   ],
   "source": [
    "ftu_dpgan_e10_df = ftu_dpgan_e10.generate(count=75000).dataframe()\n",
    "ftu_dpgan_e10_df.head()"
   ]
  },
  {
   "cell_type": "code",
   "execution_count": 41,
   "metadata": {},
   "outputs": [
    {
     "name": "stdout",
     "output_type": "stream",
     "text": [
      "Statistics for dataset for mode: ftu_dpgan_e10\n",
      "Precision: 0.008799601527478001\n",
      "Recall: 0.9695121951219512\n",
      "AUROC: 0.5057510159883626\n",
      "FTU: 0.023906666666666666\n",
      "DP: 0.025211269398056402\n"
     ]
    }
   ],
   "source": [
    "get_metrics(\"ftu_dpgan_e10\", ftu_loader.dataframe(), ftu_dpgan_e10_df)"
   ]
  },
  {
   "cell_type": "code",
   "execution_count": 42,
   "metadata": {},
   "outputs": [
    {
     "name": "stderr",
     "output_type": "stream",
     "text": [
      "[2023-12-06T18:08:05.755818-0600][7452][INFO] Testcase : test_eps_10\n",
      "[2023-12-06T18:08:05.796728-0600][7452][INFO] [testcase] Experiment repeat: 0 task type: classification Train df hash = 6103139906204711075\n",
      "[2023-12-06T18:08:06.071243-0600][7452][INFO] Encoding race 8527038700282154753\n",
      "[2023-12-06T18:08:06.099506-0600][7452][INFO] Encoding age 6087873872986842804\n",
      "[2023-12-06T18:08:11.914890-0600][7452][INFO] Encoding sex 368158753243843503\n",
      "[2023-12-06T18:08:11.914890-0600][7452][INFO] Encoding native-country 470440733214006603\n",
      "[2023-12-06T18:08:18.733559-0600][7452][INFO] Encoding marital-status 6020789638600839186\n",
      "[2023-12-06T18:08:18.749561-0600][7452][INFO] Encoding education 8506752458204124020\n",
      "[2023-12-06T18:08:25.447785-0600][7452][INFO] Encoding occupation 6236357910713540756\n",
      "[2023-12-06T18:08:28.211521-0600][7452][INFO] Encoding hours-per-week 535253690936423005\n",
      "[2023-12-06T18:08:31.576929-0600][7452][INFO] Encoding workclass 3878359790808055015\n",
      "[2023-12-06T18:08:31.593552-0600][7452][INFO] Encoding relationship 8439906152231702834\n",
      "[2023-12-06T18:08:31.612212-0600][7452][INFO] Encoding label 5117708275158476495\n",
      "[2023-12-06T18:08:37.402136-0600][7452][INFO] Training GAN on device cpu. features = 58\n",
      "100%|██████████| 10/10 [1:04:53<00:00, 389.35s/it]\n"
     ]
    }
   ],
   "source": [
    "ftu_dpgan_e10_score = Benchmarks.evaluate(\n",
    "    [(\"test_eps_10\", \"dpgan\", {\"epsilon\": 10, \"n_iter\": 10, \"n_iter_min\": 1})],\n",
    "    ftu_loader,\n",
    "    synthetic_size=75000,\n",
    "    repeats=1,\n",
    "    metrics={\n",
    "        'privacy': ['delta-presence', 'identifiability_score', 'DomiasMIA_prior']\n",
    "    }\n",
    ")"
   ]
  },
  {
   "cell_type": "code",
   "execution_count": 43,
   "metadata": {},
   "outputs": [
    {
     "name": "stdout",
     "output_type": "stream",
     "text": [
      "\n",
      "\u001b[4m\u001b[1mPlugin : test_eps_10\u001b[0m\u001b[0m\n"
     ]
    },
    {
     "data": {
      "text/html": [
       "<div>\n",
       "<style scoped>\n",
       "    .dataframe tbody tr th:only-of-type {\n",
       "        vertical-align: middle;\n",
       "    }\n",
       "\n",
       "    .dataframe tbody tr th {\n",
       "        vertical-align: top;\n",
       "    }\n",
       "\n",
       "    .dataframe thead th {\n",
       "        text-align: right;\n",
       "    }\n",
       "</style>\n",
       "<table border=\"1\" class=\"dataframe\">\n",
       "  <thead>\n",
       "    <tr style=\"text-align: right;\">\n",
       "      <th></th>\n",
       "      <th>min</th>\n",
       "      <th>max</th>\n",
       "      <th>mean</th>\n",
       "      <th>stddev</th>\n",
       "      <th>median</th>\n",
       "      <th>iqr</th>\n",
       "      <th>rounds</th>\n",
       "      <th>errors</th>\n",
       "      <th>durations</th>\n",
       "    </tr>\n",
       "  </thead>\n",
       "  <tbody>\n",
       "    <tr>\n",
       "      <th>privacy.delta-presence.score</th>\n",
       "      <td>102.294118</td>\n",
       "      <td>102.294118</td>\n",
       "      <td>102.294118</td>\n",
       "      <td>0.0</td>\n",
       "      <td>102.294118</td>\n",
       "      <td>0.0</td>\n",
       "      <td>1</td>\n",
       "      <td>0</td>\n",
       "      <td>1.30</td>\n",
       "    </tr>\n",
       "    <tr>\n",
       "      <th>privacy.identifiability_score.score</th>\n",
       "      <td>0.026937</td>\n",
       "      <td>0.026937</td>\n",
       "      <td>0.026937</td>\n",
       "      <td>0.0</td>\n",
       "      <td>0.026937</td>\n",
       "      <td>0.0</td>\n",
       "      <td>1</td>\n",
       "      <td>0</td>\n",
       "      <td>2.56</td>\n",
       "    </tr>\n",
       "    <tr>\n",
       "      <th>privacy.identifiability_score.score_OC</th>\n",
       "      <td>0.054372</td>\n",
       "      <td>0.054372</td>\n",
       "      <td>0.054372</td>\n",
       "      <td>0.0</td>\n",
       "      <td>0.054372</td>\n",
       "      <td>0.0</td>\n",
       "      <td>1</td>\n",
       "      <td>0</td>\n",
       "      <td>2.56</td>\n",
       "    </tr>\n",
       "    <tr>\n",
       "      <th>privacy.DomiasMIA_prior.accuracy</th>\n",
       "      <td>0.499979</td>\n",
       "      <td>0.499979</td>\n",
       "      <td>0.499979</td>\n",
       "      <td>0.0</td>\n",
       "      <td>0.499979</td>\n",
       "      <td>0.0</td>\n",
       "      <td>1</td>\n",
       "      <td>0</td>\n",
       "      <td>346.51</td>\n",
       "    </tr>\n",
       "    <tr>\n",
       "      <th>privacy.DomiasMIA_prior.aucroc</th>\n",
       "      <td>0.415778</td>\n",
       "      <td>0.415778</td>\n",
       "      <td>0.415778</td>\n",
       "      <td>0.0</td>\n",
       "      <td>0.415778</td>\n",
       "      <td>0.0</td>\n",
       "      <td>1</td>\n",
       "      <td>0</td>\n",
       "      <td>346.51</td>\n",
       "    </tr>\n",
       "  </tbody>\n",
       "</table>\n",
       "</div>"
      ],
      "text/plain": [
       "                                               min         max        mean  \\\n",
       "privacy.delta-presence.score            102.294118  102.294118  102.294118   \n",
       "privacy.identifiability_score.score       0.026937    0.026937    0.026937   \n",
       "privacy.identifiability_score.score_OC    0.054372    0.054372    0.054372   \n",
       "privacy.DomiasMIA_prior.accuracy          0.499979    0.499979    0.499979   \n",
       "privacy.DomiasMIA_prior.aucroc            0.415778    0.415778    0.415778   \n",
       "\n",
       "                                        stddev      median  iqr rounds errors  \\\n",
       "privacy.delta-presence.score               0.0  102.294118  0.0      1      0   \n",
       "privacy.identifiability_score.score        0.0    0.026937  0.0      1      0   \n",
       "privacy.identifiability_score.score_OC     0.0    0.054372  0.0      1      0   \n",
       "privacy.DomiasMIA_prior.accuracy           0.0    0.499979  0.0      1      0   \n",
       "privacy.DomiasMIA_prior.aucroc             0.0    0.415778  0.0      1      0   \n",
       "\n",
       "                                        durations  \n",
       "privacy.delta-presence.score                 1.30  \n",
       "privacy.identifiability_score.score          2.56  \n",
       "privacy.identifiability_score.score_OC       2.56  \n",
       "privacy.DomiasMIA_prior.accuracy           346.51  \n",
       "privacy.DomiasMIA_prior.aucroc             346.51  "
      ]
     },
     "metadata": {},
     "output_type": "display_data"
    },
    {
     "name": "stdout",
     "output_type": "stream",
     "text": [
      "\n"
     ]
    }
   ],
   "source": [
    "Benchmarks.print(ftu_dpgan_e10_score)"
   ]
  },
  {
   "cell_type": "code",
   "execution_count": 38,
   "metadata": {},
   "outputs": [],
   "source": [
    "# #save csv\n",
    "\n",
    "# orig_cf.to_csv('orig_ct.csv', index=False)\n",
    "# ctgan_ftu_synth.to_csv('ctgan_ftu_synth.csv', index=False)\n",
    "# ctgan_dp_synth.to_csv('ctgan_dp_synth.csv', index=False)\n",
    "# ctgan_cf_synth.to_csv('ctgan_cf_synth.csv', index=False)\n"
   ]
  },
  {
   "cell_type": "code",
   "execution_count": null,
   "metadata": {},
   "outputs": [],
   "source": [
    "#need to test benchmarks and metrics again ... against original test data for benchmark and train classifier on synthetic data for metrics"
   ]
  },
  {
   "cell_type": "code",
   "execution_count": 63,
   "metadata": {},
   "outputs": [],
   "source": [
    "def get_metrics2(mode,df,synthetic):\n",
    "\n",
    "    # Split the data into train,test\n",
    "    traindf, testdf = train_test_split(synthetic, test_size=0.3)\n",
    "    X_train = traindf.loc[:, traindf.columns != 'label']\n",
    "    y_train = traindf['label']\n",
    "    X_test = testdf.loc[:, testdf.columns != 'label']\n",
    "    y_test = testdf['label']\n",
    "\n",
    "    clf_df = MLPClassifier(hidden_layer_sizes=(100,), activation='relu', solver='adam',\n",
    "                                     learning_rate='constant', learning_rate_init=0.001).fit(X_train, y_train)\n",
    "    '''\n",
    "    SYNTHETIC DATASET\n",
    "    '''\n",
    "    # Make sure the data is representative of the original dataset\n",
    "    df_balanced_1 = df[df.label == 1].sample(frac = 0.75)\n",
    "    df_balanced_0 = df[df.label == 0].sample(frac = 0.25)\n",
    "    #synthetic_balanced = synthetic_balanced_1.append(synthetic_balanced_0)\n",
    "    df_balanced = pd.concat([df_balanced_1, df_balanced_0], ignore_index=True)\n",
    "\n",
    "    # Split the data into train,test\n",
    "    X_syn = df_balanced.loc[:, df_balanced.columns != 'label']\n",
    "    y_syn = df_balanced['label']\n",
    "\n",
    "    y_pred_syn = clf_df.predict(X_syn)\n",
    "\n",
    "    df_pos = df.assign(sex=0)\n",
    "    df_neg = df.assign(sex=1)\n",
    "    \n",
    "    x_pos_syn = df_balanced[df_balanced['sex'] == 0].drop(['label'], axis = 1)[:7508]\n",
    "    x_neg_syn = df_balanced[df_balanced['sex'] == 1].drop(['label'], axis = 1)[:7508]\n",
    "    \n",
    "    pos = clf_df.predict(df_pos.drop('label',axis=1))\n",
    "    neg = clf_df.predict(df_neg.drop('label',axis=1))\n",
    "\n",
    "    pred_pos_syn = clf_df.predict(x_pos_syn)\n",
    "    pred_neg_syn = clf_df.predict(x_neg_syn)\n",
    "    \n",
    "    FTU = np.abs(np.mean(pos-neg))\n",
    "    DP = np.mean(pred_pos_syn)-np.mean(pred_neg_syn)\n",
    "    \n",
    "    # Print the obtained statistics\n",
    "    print('Statistics for dataset for mode:',mode)\n",
    "    print('Precision:',precision_score(y_syn, y_pred_syn, average='binary'))\n",
    "    print('Recall:',recall_score(y_syn, y_pred_syn, average='binary'))\n",
    "    print('AUROC:',roc_auc_score(y_syn, y_pred_syn))\n",
    "    print('FTU:',FTU)\n",
    "    print('DP:',DP)\n",
    "\n",
    "\n",
    "clean_orig_df = PreProcessData.clean_df('data/adult.data')\n",
    "traindf_orig_df, test_orig_df = train_test_split(clean_orig_df, test_size=0.80)\n",
    "\n",
    "# train and test DPGAN on FACTGAN synthetic data\n",
    "#clean_df = PreProcessData.clean_df('data/adult.data')\n",
    "test_loader = GenericDataLoader(\n",
    "    test_orig_df,\n",
    "    target_column=\"label\",\n",
    "    sensitive_columns=[\"race\",\"sex\",\"native-country\"],\n",
    ")\n",
    "\n",
    "#test_loader.dataframe().head()"
   ]
  },
  {
   "cell_type": "code",
   "execution_count": 62,
   "metadata": {},
   "outputs": [
    {
     "name": "stdout",
     "output_type": "stream",
     "text": [
      "Statistics for dataset for mode:  ctgan_ftu_synth metric 2\n",
      "Precision: 0.9005141251921344\n",
      "Recall: 1.0\n",
      "AUROC: 0.5\n",
      "FTU: 3.315430011272462e-05\n",
      "DP: 0.0\n"
     ]
    }
   ],
   "source": [
    "# CTGAN_FTU,DP,CF metrics 2\n",
    "get_metrics2(\" ctgan_ftu_synth metric 2\", clean_orig_df, ctgan_ftu_synth)\n",
    "# get_metrics2(\" ctgan_dp_synth metric 2\", clean_orig_df, ctgan_dp_synth)\n",
    "# get_metrics2(\" ctgan_cf_synth metric 2\", clean_orig_df, ctgan_cf_synth)"
   ]
  },
  {
   "cell_type": "code",
   "execution_count": 64,
   "metadata": {},
   "outputs": [
    {
     "name": "stderr",
     "output_type": "stream",
     "text": [
      "[2023-12-06T19:43:21.657487-0600][7452][INFO] Testcase : test_eps_0.1\n",
      "[2023-12-06T19:43:21.671685-0600][7452][INFO] [testcase] Experiment repeat: 0 task type: classification Train df hash = 6103139906204711075\n"
     ]
    },
    {
     "name": "stdout",
     "output_type": "stream",
     "text": [
      "\n",
      "\u001b[4m\u001b[1mPlugin : test_eps_0.1\u001b[0m\u001b[0m\n"
     ]
    },
    {
     "data": {
      "text/html": [
       "<div>\n",
       "<style scoped>\n",
       "    .dataframe tbody tr th:only-of-type {\n",
       "        vertical-align: middle;\n",
       "    }\n",
       "\n",
       "    .dataframe tbody tr th {\n",
       "        vertical-align: top;\n",
       "    }\n",
       "\n",
       "    .dataframe thead th {\n",
       "        text-align: right;\n",
       "    }\n",
       "</style>\n",
       "<table border=\"1\" class=\"dataframe\">\n",
       "  <thead>\n",
       "    <tr style=\"text-align: right;\">\n",
       "      <th></th>\n",
       "      <th>min</th>\n",
       "      <th>max</th>\n",
       "      <th>mean</th>\n",
       "      <th>stddev</th>\n",
       "      <th>median</th>\n",
       "      <th>iqr</th>\n",
       "      <th>rounds</th>\n",
       "      <th>errors</th>\n",
       "      <th>durations</th>\n",
       "    </tr>\n",
       "  </thead>\n",
       "  <tbody>\n",
       "    <tr>\n",
       "      <th>privacy.delta-presence.score</th>\n",
       "      <td>629.499999</td>\n",
       "      <td>629.499999</td>\n",
       "      <td>629.499999</td>\n",
       "      <td>0.0</td>\n",
       "      <td>629.499999</td>\n",
       "      <td>0.0</td>\n",
       "      <td>1</td>\n",
       "      <td>0</td>\n",
       "      <td>0.97</td>\n",
       "    </tr>\n",
       "    <tr>\n",
       "      <th>privacy.identifiability_score.score</th>\n",
       "      <td>0.008579</td>\n",
       "      <td>0.008579</td>\n",
       "      <td>0.008579</td>\n",
       "      <td>0.0</td>\n",
       "      <td>0.008579</td>\n",
       "      <td>0.0</td>\n",
       "      <td>1</td>\n",
       "      <td>0</td>\n",
       "      <td>35.89</td>\n",
       "    </tr>\n",
       "    <tr>\n",
       "      <th>privacy.identifiability_score.score_OC</th>\n",
       "      <td>0.020390</td>\n",
       "      <td>0.020390</td>\n",
       "      <td>0.020390</td>\n",
       "      <td>0.0</td>\n",
       "      <td>0.020390</td>\n",
       "      <td>0.0</td>\n",
       "      <td>1</td>\n",
       "      <td>0</td>\n",
       "      <td>35.89</td>\n",
       "    </tr>\n",
       "    <tr>\n",
       "      <th>privacy.DomiasMIA_prior.accuracy</th>\n",
       "      <td>0.500021</td>\n",
       "      <td>0.500021</td>\n",
       "      <td>0.500021</td>\n",
       "      <td>0.0</td>\n",
       "      <td>0.500021</td>\n",
       "      <td>0.0</td>\n",
       "      <td>1</td>\n",
       "      <td>0</td>\n",
       "      <td>349.47</td>\n",
       "    </tr>\n",
       "    <tr>\n",
       "      <th>privacy.DomiasMIA_prior.aucroc</th>\n",
       "      <td>0.501266</td>\n",
       "      <td>0.501266</td>\n",
       "      <td>0.501266</td>\n",
       "      <td>0.0</td>\n",
       "      <td>0.501266</td>\n",
       "      <td>0.0</td>\n",
       "      <td>1</td>\n",
       "      <td>0</td>\n",
       "      <td>349.47</td>\n",
       "    </tr>\n",
       "  </tbody>\n",
       "</table>\n",
       "</div>"
      ],
      "text/plain": [
       "                                               min         max        mean  \\\n",
       "privacy.delta-presence.score            629.499999  629.499999  629.499999   \n",
       "privacy.identifiability_score.score       0.008579    0.008579    0.008579   \n",
       "privacy.identifiability_score.score_OC    0.020390    0.020390    0.020390   \n",
       "privacy.DomiasMIA_prior.accuracy          0.500021    0.500021    0.500021   \n",
       "privacy.DomiasMIA_prior.aucroc            0.501266    0.501266    0.501266   \n",
       "\n",
       "                                        stddev      median  iqr rounds errors  \\\n",
       "privacy.delta-presence.score               0.0  629.499999  0.0      1      0   \n",
       "privacy.identifiability_score.score        0.0    0.008579  0.0      1      0   \n",
       "privacy.identifiability_score.score_OC     0.0    0.020390  0.0      1      0   \n",
       "privacy.DomiasMIA_prior.accuracy           0.0    0.500021  0.0      1      0   \n",
       "privacy.DomiasMIA_prior.aucroc             0.0    0.501266  0.0      1      0   \n",
       "\n",
       "                                        durations  \n",
       "privacy.delta-presence.score                 0.97  \n",
       "privacy.identifiability_score.score         35.89  \n",
       "privacy.identifiability_score.score_OC      35.89  \n",
       "privacy.DomiasMIA_prior.accuracy           349.47  \n",
       "privacy.DomiasMIA_prior.aucroc             349.47  "
      ]
     },
     "metadata": {},
     "output_type": "display_data"
    },
    {
     "name": "stdout",
     "output_type": "stream",
     "text": [
      "\n"
     ]
    }
   ],
   "source": [
    "#DPGAN_FTU,DP, CF benchmarks against test = orig\n",
    "ftu_dpgan_e01_score2 = Benchmarks.evaluate(\n",
    "    [(\"test_eps_0.1\", \"dpgan\", {\"epsilon\": 0.1, \"n_iter\": 10, \"n_iter_min\": 1})],\n",
    "    ftu_loader,\n",
    "    test_loader,\n",
    "    synthetic_size=75000,\n",
    "    repeats=1,\n",
    "    metrics={\n",
    "        'privacy': ['delta-presence', 'identifiability_score', 'DomiasMIA_prior']\n",
    "    },\n",
    "    use_metric_cache=False\n",
    ")\n",
    "Benchmarks.print(ftu_dpgan_e01_score2)"
   ]
  },
  {
   "cell_type": "code",
   "execution_count": 65,
   "metadata": {},
   "outputs": [
    {
     "name": "stderr",
     "output_type": "stream",
     "text": [
      "[2023-12-06T19:57:03.043738-0600][7452][INFO] Testcase : test_eps_1\n",
      "[2023-12-06T19:57:03.047551-0600][7452][INFO] [testcase] Experiment repeat: 0 task type: classification Train df hash = 6103139906204711075\n"
     ]
    },
    {
     "name": "stdout",
     "output_type": "stream",
     "text": [
      "\n",
      "\u001b[4m\u001b[1mPlugin : test_eps_1\u001b[0m\u001b[0m\n"
     ]
    },
    {
     "data": {
      "text/html": [
       "<div>\n",
       "<style scoped>\n",
       "    .dataframe tbody tr th:only-of-type {\n",
       "        vertical-align: middle;\n",
       "    }\n",
       "\n",
       "    .dataframe tbody tr th {\n",
       "        vertical-align: top;\n",
       "    }\n",
       "\n",
       "    .dataframe thead th {\n",
       "        text-align: right;\n",
       "    }\n",
       "</style>\n",
       "<table border=\"1\" class=\"dataframe\">\n",
       "  <thead>\n",
       "    <tr style=\"text-align: right;\">\n",
       "      <th></th>\n",
       "      <th>min</th>\n",
       "      <th>max</th>\n",
       "      <th>mean</th>\n",
       "      <th>stddev</th>\n",
       "      <th>median</th>\n",
       "      <th>iqr</th>\n",
       "      <th>rounds</th>\n",
       "      <th>errors</th>\n",
       "      <th>durations</th>\n",
       "    </tr>\n",
       "  </thead>\n",
       "  <tbody>\n",
       "    <tr>\n",
       "      <th>privacy.delta-presence.score</th>\n",
       "      <td>2048.499990</td>\n",
       "      <td>2048.499990</td>\n",
       "      <td>2048.499990</td>\n",
       "      <td>0.0</td>\n",
       "      <td>2048.499990</td>\n",
       "      <td>0.0</td>\n",
       "      <td>1</td>\n",
       "      <td>0</td>\n",
       "      <td>0.91</td>\n",
       "    </tr>\n",
       "    <tr>\n",
       "      <th>privacy.identifiability_score.score</th>\n",
       "      <td>0.005802</td>\n",
       "      <td>0.005802</td>\n",
       "      <td>0.005802</td>\n",
       "      <td>0.0</td>\n",
       "      <td>0.005802</td>\n",
       "      <td>0.0</td>\n",
       "      <td>1</td>\n",
       "      <td>0</td>\n",
       "      <td>32.04</td>\n",
       "    </tr>\n",
       "    <tr>\n",
       "      <th>privacy.identifiability_score.score_OC</th>\n",
       "      <td>0.020017</td>\n",
       "      <td>0.020017</td>\n",
       "      <td>0.020017</td>\n",
       "      <td>0.0</td>\n",
       "      <td>0.020017</td>\n",
       "      <td>0.0</td>\n",
       "      <td>1</td>\n",
       "      <td>0</td>\n",
       "      <td>32.04</td>\n",
       "    </tr>\n",
       "    <tr>\n",
       "      <th>privacy.DomiasMIA_prior.accuracy</th>\n",
       "      <td>0.500041</td>\n",
       "      <td>0.500041</td>\n",
       "      <td>0.500041</td>\n",
       "      <td>0.0</td>\n",
       "      <td>0.500041</td>\n",
       "      <td>0.0</td>\n",
       "      <td>1</td>\n",
       "      <td>0</td>\n",
       "      <td>348.66</td>\n",
       "    </tr>\n",
       "    <tr>\n",
       "      <th>privacy.DomiasMIA_prior.aucroc</th>\n",
       "      <td>0.675551</td>\n",
       "      <td>0.675551</td>\n",
       "      <td>0.675551</td>\n",
       "      <td>0.0</td>\n",
       "      <td>0.675551</td>\n",
       "      <td>0.0</td>\n",
       "      <td>1</td>\n",
       "      <td>0</td>\n",
       "      <td>348.66</td>\n",
       "    </tr>\n",
       "  </tbody>\n",
       "</table>\n",
       "</div>"
      ],
      "text/plain": [
       "                                                min          max         mean  \\\n",
       "privacy.delta-presence.score            2048.499990  2048.499990  2048.499990   \n",
       "privacy.identifiability_score.score        0.005802     0.005802     0.005802   \n",
       "privacy.identifiability_score.score_OC     0.020017     0.020017     0.020017   \n",
       "privacy.DomiasMIA_prior.accuracy           0.500041     0.500041     0.500041   \n",
       "privacy.DomiasMIA_prior.aucroc             0.675551     0.675551     0.675551   \n",
       "\n",
       "                                        stddev       median  iqr rounds  \\\n",
       "privacy.delta-presence.score               0.0  2048.499990  0.0      1   \n",
       "privacy.identifiability_score.score        0.0     0.005802  0.0      1   \n",
       "privacy.identifiability_score.score_OC     0.0     0.020017  0.0      1   \n",
       "privacy.DomiasMIA_prior.accuracy           0.0     0.500041  0.0      1   \n",
       "privacy.DomiasMIA_prior.aucroc             0.0     0.675551  0.0      1   \n",
       "\n",
       "                                       errors  durations  \n",
       "privacy.delta-presence.score                0       0.91  \n",
       "privacy.identifiability_score.score         0      32.04  \n",
       "privacy.identifiability_score.score_OC      0      32.04  \n",
       "privacy.DomiasMIA_prior.accuracy            0     348.66  \n",
       "privacy.DomiasMIA_prior.aucroc              0     348.66  "
      ]
     },
     "metadata": {},
     "output_type": "display_data"
    },
    {
     "name": "stdout",
     "output_type": "stream",
     "text": [
      "\n"
     ]
    }
   ],
   "source": [
    "ftu_dpgan_e1_score2 = Benchmarks.evaluate(\n",
    "    [(\"test_eps_1\", \"dpgan\", {\"epsilon\": 1, \"n_iter\": 10, \"n_iter_min\": 1})],\n",
    "    ftu_loader,\n",
    "    test_loader,\n",
    "    synthetic_size=75000,\n",
    "    repeats=1,\n",
    "    metrics={\n",
    "        'privacy': ['delta-presence', 'identifiability_score', 'DomiasMIA_prior']\n",
    "    },\n",
    "    use_metric_cache=False\n",
    ")\n",
    "Benchmarks.print(ftu_dpgan_e1_score2)"
   ]
  },
  {
   "cell_type": "code",
   "execution_count": 66,
   "metadata": {},
   "outputs": [
    {
     "name": "stderr",
     "output_type": "stream",
     "text": [
      "[2023-12-06T20:03:25.016934-0600][7452][INFO] Testcase : test_eps_10\n",
      "[2023-12-06T20:03:25.026263-0600][7452][INFO] [testcase] Experiment repeat: 0 task type: classification Train df hash = 6103139906204711075\n"
     ]
    },
    {
     "name": "stdout",
     "output_type": "stream",
     "text": [
      "\n",
      "\u001b[4m\u001b[1mPlugin : test_eps_10\u001b[0m\u001b[0m\n"
     ]
    },
    {
     "data": {
      "text/html": [
       "<div>\n",
       "<style scoped>\n",
       "    .dataframe tbody tr th:only-of-type {\n",
       "        vertical-align: middle;\n",
       "    }\n",
       "\n",
       "    .dataframe tbody tr th {\n",
       "        vertical-align: top;\n",
       "    }\n",
       "\n",
       "    .dataframe thead th {\n",
       "        text-align: right;\n",
       "    }\n",
       "</style>\n",
       "<table border=\"1\" class=\"dataframe\">\n",
       "  <thead>\n",
       "    <tr style=\"text-align: right;\">\n",
       "      <th></th>\n",
       "      <th>min</th>\n",
       "      <th>max</th>\n",
       "      <th>mean</th>\n",
       "      <th>stddev</th>\n",
       "      <th>median</th>\n",
       "      <th>iqr</th>\n",
       "      <th>rounds</th>\n",
       "      <th>errors</th>\n",
       "      <th>durations</th>\n",
       "    </tr>\n",
       "  </thead>\n",
       "  <tbody>\n",
       "    <tr>\n",
       "      <th>privacy.delta-presence.score</th>\n",
       "      <td>209.833333</td>\n",
       "      <td>209.833333</td>\n",
       "      <td>209.833333</td>\n",
       "      <td>0.0</td>\n",
       "      <td>209.833333</td>\n",
       "      <td>0.0</td>\n",
       "      <td>1</td>\n",
       "      <td>0</td>\n",
       "      <td>0.88</td>\n",
       "    </tr>\n",
       "    <tr>\n",
       "      <th>privacy.identifiability_score.score</th>\n",
       "      <td>0.014173</td>\n",
       "      <td>0.014173</td>\n",
       "      <td>0.014173</td>\n",
       "      <td>0.0</td>\n",
       "      <td>0.014173</td>\n",
       "      <td>0.0</td>\n",
       "      <td>1</td>\n",
       "      <td>0</td>\n",
       "      <td>32.93</td>\n",
       "    </tr>\n",
       "    <tr>\n",
       "      <th>privacy.identifiability_score.score_OC</th>\n",
       "      <td>0.034563</td>\n",
       "      <td>0.034563</td>\n",
       "      <td>0.034563</td>\n",
       "      <td>0.0</td>\n",
       "      <td>0.034563</td>\n",
       "      <td>0.0</td>\n",
       "      <td>1</td>\n",
       "      <td>0</td>\n",
       "      <td>32.93</td>\n",
       "    </tr>\n",
       "    <tr>\n",
       "      <th>privacy.DomiasMIA_prior.accuracy</th>\n",
       "      <td>0.500062</td>\n",
       "      <td>0.500062</td>\n",
       "      <td>0.500062</td>\n",
       "      <td>0.0</td>\n",
       "      <td>0.500062</td>\n",
       "      <td>0.0</td>\n",
       "      <td>1</td>\n",
       "      <td>0</td>\n",
       "      <td>348.02</td>\n",
       "    </tr>\n",
       "    <tr>\n",
       "      <th>privacy.DomiasMIA_prior.aucroc</th>\n",
       "      <td>0.762871</td>\n",
       "      <td>0.762871</td>\n",
       "      <td>0.762871</td>\n",
       "      <td>0.0</td>\n",
       "      <td>0.762871</td>\n",
       "      <td>0.0</td>\n",
       "      <td>1</td>\n",
       "      <td>0</td>\n",
       "      <td>348.02</td>\n",
       "    </tr>\n",
       "  </tbody>\n",
       "</table>\n",
       "</div>"
      ],
      "text/plain": [
       "                                               min         max        mean  \\\n",
       "privacy.delta-presence.score            209.833333  209.833333  209.833333   \n",
       "privacy.identifiability_score.score       0.014173    0.014173    0.014173   \n",
       "privacy.identifiability_score.score_OC    0.034563    0.034563    0.034563   \n",
       "privacy.DomiasMIA_prior.accuracy          0.500062    0.500062    0.500062   \n",
       "privacy.DomiasMIA_prior.aucroc            0.762871    0.762871    0.762871   \n",
       "\n",
       "                                        stddev      median  iqr rounds errors  \\\n",
       "privacy.delta-presence.score               0.0  209.833333  0.0      1      0   \n",
       "privacy.identifiability_score.score        0.0    0.014173  0.0      1      0   \n",
       "privacy.identifiability_score.score_OC     0.0    0.034563  0.0      1      0   \n",
       "privacy.DomiasMIA_prior.accuracy           0.0    0.500062  0.0      1      0   \n",
       "privacy.DomiasMIA_prior.aucroc             0.0    0.762871  0.0      1      0   \n",
       "\n",
       "                                        durations  \n",
       "privacy.delta-presence.score                 0.88  \n",
       "privacy.identifiability_score.score         32.93  \n",
       "privacy.identifiability_score.score_OC      32.93  \n",
       "privacy.DomiasMIA_prior.accuracy           348.02  \n",
       "privacy.DomiasMIA_prior.aucroc             348.02  "
      ]
     },
     "metadata": {},
     "output_type": "display_data"
    },
    {
     "name": "stdout",
     "output_type": "stream",
     "text": [
      "\n"
     ]
    }
   ],
   "source": [
    "ftu_dpgan_e10_score2 = Benchmarks.evaluate(\n",
    "    [(\"test_eps_10\", \"dpgan\", {\"epsilon\": 10, \"n_iter\": 10, \"n_iter_min\": 1})],\n",
    "    ftu_loader,\n",
    "    test_loader,\n",
    "    synthetic_size=75000,\n",
    "    repeats=1,\n",
    "    metrics={\n",
    "        'privacy': ['delta-presence', 'identifiability_score', 'DomiasMIA_prior']\n",
    "    },\n",
    "    use_metric_cache=False\n",
    ")\n",
    "Benchmarks.print(ftu_dpgan_e10_score2)"
   ]
  }
 ],
 "metadata": {
  "colab": {
   "collapsed_sections": [],
   "name": "FACT GAN",
   "provenance": []
  },
  "kernelspec": {
   "display_name": "Python 3 (ipykernel)",
   "language": "python",
   "name": "python3"
  },
  "language_info": {
   "codemirror_mode": {
    "name": "ipython",
    "version": 3
   },
   "file_extension": ".py",
   "mimetype": "text/x-python",
   "name": "python",
   "nbconvert_exporter": "python",
   "pygments_lexer": "ipython3",
   "version": "3.9.2"
  }
 },
 "nbformat": 4,
 "nbformat_minor": 1
}
